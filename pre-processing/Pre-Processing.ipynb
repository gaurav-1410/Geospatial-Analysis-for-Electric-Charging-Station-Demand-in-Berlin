{
 "cells": [
  {
   "cell_type": "code",
   "execution_count": 2,
   "id": "8940256d-039e-4d6d-a638-30c809f84c19",
   "metadata": {},
   "outputs": [
    {
     "name": "stdout",
     "output_type": "stream",
     "text": [
      "Requirement already satisfied: pandas in d:\\ase\\ase\\venv\\lib\\site-packages (2.2.3)\n",
      "Requirement already satisfied: numpy>=1.26.0 in d:\\ase\\ase\\venv\\lib\\site-packages (from pandas) (2.2.1)\n",
      "Requirement already satisfied: python-dateutil>=2.8.2 in d:\\ase\\ase\\venv\\lib\\site-packages (from pandas) (2.9.0.post0)\n",
      "Requirement already satisfied: pytz>=2020.1 in d:\\ase\\ase\\venv\\lib\\site-packages (from pandas) (2024.2)\n",
      "Requirement already satisfied: tzdata>=2022.7 in d:\\ase\\ase\\venv\\lib\\site-packages (from pandas) (2024.2)\n",
      "Requirement already satisfied: six>=1.5 in d:\\ase\\ase\\venv\\lib\\site-packages (from python-dateutil>=2.8.2->pandas) (1.17.0)\n"
     ]
    },
    {
     "name": "stderr",
     "output_type": "stream",
     "text": [
      "\n",
      "[notice] A new release of pip is available: 24.2 -> 24.3.1\n",
      "[notice] To update, run: python.exe -m pip install --upgrade pip\n"
     ]
    },
    {
     "ename": "ModuleNotFoundError",
     "evalue": "No module named 'pandas'",
     "output_type": "error",
     "traceback": [
      "\u001b[1;31m---------------------------------------------------------------------------\u001b[0m",
      "\u001b[1;31mModuleNotFoundError\u001b[0m                       Traceback (most recent call last)",
      "Cell \u001b[1;32mIn[2], line 2\u001b[0m\n\u001b[0;32m      1\u001b[0m get_ipython()\u001b[38;5;241m.\u001b[39msystem(\u001b[38;5;124m'\u001b[39m\u001b[38;5;124mpip install pandas\u001b[39m\u001b[38;5;124m'\u001b[39m)\n\u001b[1;32m----> 2\u001b[0m \u001b[38;5;28;01mimport\u001b[39;00m \u001b[38;5;21;01mpandas\u001b[39;00m \u001b[38;5;28;01mas\u001b[39;00m \u001b[38;5;21;01mpd\u001b[39;00m\n",
      "\u001b[1;31mModuleNotFoundError\u001b[0m: No module named 'pandas'"
     ]
    }
   ],
   "source": [
    "!pip install pandas\n",
    "import pandas as pd"
   ]
  },
  {
   "cell_type": "code",
   "execution_count": null,
   "id": "a7ec9a05-723d-4fb8-b689-5b94ee321b9f",
   "metadata": {},
   "outputs": [],
   "source": [
    "# Load population data\n",
    "population_data = pd.read_csv(\"datasets/plz_einwohner.csv\")\n",
    "\n",
    "# Load charging stations data\n",
    "charging_stations_data = pd.read_excel(\"datasets/Ladesaeulenregister_SEP.xlsx\")\n",
    "\n",
    "# Check the data structure\n",
    "# print(population_data.head())\n",
    "# print(charging_stations_data.head())"
   ]
  },
  {
   "cell_type": "code",
   "execution_count": null,
   "id": "fae16c4e-9bf8-432c-b7f9-7efe6381401f",
   "metadata": {},
   "outputs": [],
   "source": [
    "population_data.head()"
   ]
  },
  {
   "cell_type": "code",
   "execution_count": null,
   "id": "82b0f36d-7e52-4614-a5ae-6fd0485c23b9",
   "metadata": {},
   "outputs": [],
   "source": [
    "print(population_data.columns)"
   ]
  },
  {
   "cell_type": "code",
   "execution_count": null,
   "id": "9897e8c0-5c81-4a52-9dbb-6aff6bd28658",
   "metadata": {},
   "outputs": [],
   "source": [
    "population_data.rename(columns={\"plz\": \"PLZ\", \"einwohner\": \"Population\"}, inplace=True)"
   ]
  },
  {
   "cell_type": "code",
   "execution_count": null,
   "id": "7b15355f-bc85-4b78-9c36-562e20e221a9",
   "metadata": {},
   "outputs": [],
   "source": [
    "population_data.head(3)"
   ]
  },
  {
   "cell_type": "code",
   "execution_count": null,
   "id": "5fd8329b-001c-4322-9016-a6438887ba28",
   "metadata": {},
   "outputs": [],
   "source": [
    "charging_stations_data.head()"
   ]
  },
  {
   "cell_type": "code",
   "execution_count": null,
   "id": "b49b6c66-25ba-460b-ba33-7603e88fa03e",
   "metadata": {},
   "outputs": [],
   "source": [
    "df = charging_stations_data.loc[:,['Postleitzahl', 'Bundesland', 'Breitengrad', 'Längengrad', 'Nennleistung Ladeeinrichtung [kW]']]"
   ]
  },
  {
   "cell_type": "code",
   "execution_count": null,
   "id": "8b981df5-d4f6-4b0d-b8b2-8b9970a34964",
   "metadata": {},
   "outputs": [],
   "source": [
    "df.head(3)"
   ]
  },
  {
   "cell_type": "code",
   "execution_count": null,
   "id": "c29e837c-af44-470a-a1c3-29118e1ceb47",
   "metadata": {},
   "outputs": [],
   "source": [
    "df.rename(columns  = {\"Nennleistung Ladeeinrichtung [kW]\":\"KW\", \"Postleitzahl\": \"PLZ\"}, inplace = True)"
   ]
  },
  {
   "cell_type": "code",
   "execution_count": null,
   "id": "96d6b828-b0c3-4d0f-b846-7e7b63c20347",
   "metadata": {},
   "outputs": [],
   "source": [
    "df.head(2)"
   ]
  },
  {
   "cell_type": "code",
   "execution_count": null,
   "id": "0ae656ca-6b36-4d62-855a-87962dad2218",
   "metadata": {},
   "outputs": [],
   "source": [
    "df['Breitengrad'] = df['Breitengrad'].astype('str')\n",
    "df['Längengrad'] = df['Längengrad'].astype('str')"
   ]
  },
  {
   "cell_type": "code",
   "execution_count": null,
   "id": "87bc9325-1d64-4888-bde4-a55e999d6325",
   "metadata": {},
   "outputs": [],
   "source": [
    "df['Breitengrad'] = df['Breitengrad'].str.replace(',','.')\n",
    "df['Längengrad'] = df['Längengrad'].str.replace(',','.')"
   ]
  },
  {
   "cell_type": "code",
   "execution_count": null,
   "id": "f5d28b25-8094-4bbe-a3e8-624cf4748408",
   "metadata": {},
   "outputs": [],
   "source": [
    "charging_counts = df.groupby(\"PLZ\").size().reset_index(name='ChargingStations')"
   ]
  },
  {
   "cell_type": "code",
   "execution_count": null,
   "id": "b4be8921-7973-41ae-a24f-e9081a128935",
   "metadata": {},
   "outputs": [],
   "source": [
    "charging_counts"
   ]
  },
  {
   "cell_type": "code",
   "execution_count": null,
   "id": "32951668-a0dd-4cf0-910d-65ba595e50db",
   "metadata": {},
   "outputs": [],
   "source": [
    "merged_data = pd.merge(population_data, charging_counts, on=\"PLZ\", how=\"left\")"
   ]
  },
  {
   "cell_type": "code",
   "execution_count": null,
   "id": "405f26cc-fc93-4003-a019-bfc43be5398f",
   "metadata": {},
   "outputs": [],
   "source": [
    "population_data.shape"
   ]
  },
  {
   "cell_type": "code",
   "execution_count": null,
   "id": "3a9507c0-5ed8-43af-9467-40e313410482",
   "metadata": {},
   "outputs": [],
   "source": [
    "charging_counts.shape"
   ]
  },
  {
   "cell_type": "code",
   "execution_count": null,
   "id": "65caf70b-5da5-437e-a978-d59a669395b4",
   "metadata": {},
   "outputs": [],
   "source": [
    "merged_data.shape"
   ]
  },
  {
   "cell_type": "code",
   "execution_count": null,
   "id": "1404a91f-1005-45eb-9f63-7b4a3a432839",
   "metadata": {},
   "outputs": [],
   "source": [
    "merged_data.info()"
   ]
  },
  {
   "cell_type": "code",
   "execution_count": null,
   "id": "19ebe6f8-c3d5-4417-8200-9ff443e2cb01",
   "metadata": {},
   "outputs": [],
   "source": [
    "merged_data[\"ChargingStations\"].fillna(0, inplace=True)"
   ]
  },
  {
   "cell_type": "code",
   "execution_count": null,
   "id": "2c02d09b-c85c-49ae-9711-f6e7e18254a6",
   "metadata": {},
   "outputs": [],
   "source": [
    "merged_data[\"PopulationPerStation\"] = merged_data[\"Population\"] / (merged_data[\"ChargingStations\"] + 1)"
   ]
  },
  {
   "cell_type": "code",
   "execution_count": null,
   "id": "dfc68682-15ad-426b-97e3-ca2b48c40b43",
   "metadata": {},
   "outputs": [],
   "source": [
    "merged_data.head(2)"
   ]
  },
  {
   "cell_type": "code",
   "execution_count": null,
   "id": "e6ed6c5e-1fd0-49d3-b469-8daabd3bf56f",
   "metadata": {},
   "outputs": [],
   "source": [
    "merged_data.drop(['note', 'qkm'], axis= 1, inplace= True)"
   ]
  },
  {
   "cell_type": "code",
   "execution_count": null,
   "id": "69304464-0ecf-4691-998f-4eac25262a9b",
   "metadata": {},
   "outputs": [],
   "source": [
    "merged_data.head(2)"
   ]
  },
  {
   "cell_type": "code",
   "execution_count": null,
   "id": "d6a43ed5-9bdf-438d-809a-6738f6acb0d4",
   "metadata": {},
   "outputs": [],
   "source": [
    "merged_data.rename(columns= {\"PLZ\": \"plz\", \"Population\": \"Einwohner\", \"lat\": \"Breitengrad\", \"lon\": \"Längengrad\"}, inplace= True)\n",
    "merged_data.head(2)"
   ]
  },
  {
   "cell_type": "code",
   "execution_count": null,
   "id": "fb082285-a482-46f5-a430-2eaa7571cdd6",
   "metadata": {},
   "outputs": [],
   "source": [
    "merged_data.info()"
   ]
  },
  {
   "cell_type": "code",
   "execution_count": null,
   "id": "3c9dd72c-3b02-4f22-9d01-81e8ed47a71b",
   "metadata": {},
   "outputs": [],
   "source": [
    "merged_data = merged_data[(merged_data.plz > 10000) & (merged_data.plz < 14200)]"
   ]
  },
  {
   "cell_type": "code",
   "execution_count": null,
   "id": "73e0df2e-ba75-40cd-8caa-b8b2317e1176",
   "metadata": {
    "scrolled": true
   },
   "outputs": [],
   "source": [
    "merged_data.to_csv(\"processed_data.csv\", index=False)"
   ]
  },
  {
   "cell_type": "code",
   "execution_count": null,
   "id": "c86fc586-ff5f-4e66-92f7-9e6e1fbf8337",
   "metadata": {},
   "outputs": [],
   "source": [
    "import folium\n",
    "from folium.plugins import HeatMap"
   ]
  },
  {
   "cell_type": "code",
   "execution_count": null,
   "id": "b039aaa6-bf41-44c7-9524-845f2aabe05c",
   "metadata": {},
   "outputs": [],
   "source": [
    "import geopandas as gpd"
   ]
  },
  {
   "cell_type": "code",
   "execution_count": null,
   "id": "6c6b5277-d874-42aa-82a6-e745fce2a3db",
   "metadata": {},
   "outputs": [],
   "source": [
    "geo_merged = geo_merged[(geo_merged.plz > 10000) & (geo_merged.plz < 14200)]"
   ]
  },
  {
   "cell_type": "code",
   "execution_count": null,
   "id": "e6015e98-b01f-4550-b1a2-76da1bbafc4f",
   "metadata": {},
   "outputs": [],
   "source": [
    "geo_merged.head(3)"
   ]
  },
  {
   "cell_type": "code",
   "execution_count": null,
   "id": "a02747c7-d6fa-40cd-96ef-f03aecd4cd47",
   "metadata": {},
   "outputs": [],
   "source": [
    "geo_merged.to_csv(\"processed1_data.csv\", index=False)"
   ]
  },
  {
   "cell_type": "code",
   "execution_count": null,
   "id": "1b4bc391-79b7-4eb6-bae8-323929862878",
   "metadata": {},
   "outputs": [],
   "source": []
  }
 ],
 "metadata": {
  "kernelspec": {
   "display_name": "Python 3 (ipykernel)",
   "language": "python",
   "name": "python3"
  },
  "language_info": {
   "codemirror_mode": {
    "name": "ipython",
    "version": 3
   },
   "file_extension": ".py",
   "mimetype": "text/x-python",
   "name": "python",
   "nbconvert_exporter": "python",
   "pygments_lexer": "ipython3",
   "version": "3.9.0"
  }
 },
 "nbformat": 4,
 "nbformat_minor": 5
}
