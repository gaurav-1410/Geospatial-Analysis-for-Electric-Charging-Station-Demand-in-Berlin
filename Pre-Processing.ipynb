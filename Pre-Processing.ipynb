{
 "cells": [
  {
   "cell_type": "code",
   "execution_count": 1,
   "id": "8940256d-039e-4d6d-a638-30c809f84c19",
   "metadata": {},
   "outputs": [],
   "source": [
    "import pandas as pd"
   ]
  },
  {
   "cell_type": "code",
   "execution_count": 2,
   "id": "a7ec9a05-723d-4fb8-b689-5b94ee321b9f",
   "metadata": {},
   "outputs": [],
   "source": [
    "# Load population data\n",
    "population_data = pd.read_csv(\"plz_einwohner.csv\")\n",
    "\n",
    "# Load charging stations data\n",
    "charging_stations_data = pd.read_excel(\"Ladesaeulenregister_SEP.xlsx\")\n",
    "\n",
    "# Check the data structure\n",
    "# print(population_data.head())\n",
    "# print(charging_stations_data.head())"
   ]
  },
  {
   "cell_type": "code",
   "execution_count": 3,
   "id": "fae16c4e-9bf8-432c-b7f9-7efe6381401f",
   "metadata": {},
   "outputs": [
    {
     "data": {
      "text/html": [
       "<div>\n",
       "<style scoped>\n",
       "    .dataframe tbody tr th:only-of-type {\n",
       "        vertical-align: middle;\n",
       "    }\n",
       "\n",
       "    .dataframe tbody tr th {\n",
       "        vertical-align: top;\n",
       "    }\n",
       "\n",
       "    .dataframe thead th {\n",
       "        text-align: right;\n",
       "    }\n",
       "</style>\n",
       "<table border=\"1\" class=\"dataframe\">\n",
       "  <thead>\n",
       "    <tr style=\"text-align: right;\">\n",
       "      <th></th>\n",
       "      <th>plz</th>\n",
       "      <th>note</th>\n",
       "      <th>einwohner</th>\n",
       "      <th>qkm</th>\n",
       "      <th>lat</th>\n",
       "      <th>lon</th>\n",
       "    </tr>\n",
       "  </thead>\n",
       "  <tbody>\n",
       "    <tr>\n",
       "      <th>0</th>\n",
       "      <td>1067</td>\n",
       "      <td>01067 Dresden</td>\n",
       "      <td>11957</td>\n",
       "      <td>6.866839</td>\n",
       "      <td>51.06019</td>\n",
       "      <td>13.71117</td>\n",
       "    </tr>\n",
       "    <tr>\n",
       "      <th>1</th>\n",
       "      <td>1069</td>\n",
       "      <td>01069 Dresden</td>\n",
       "      <td>25483</td>\n",
       "      <td>5.339213</td>\n",
       "      <td>51.03964</td>\n",
       "      <td>13.73030</td>\n",
       "    </tr>\n",
       "    <tr>\n",
       "      <th>2</th>\n",
       "      <td>1097</td>\n",
       "      <td>01097 Dresden</td>\n",
       "      <td>14821</td>\n",
       "      <td>3.298022</td>\n",
       "      <td>51.06945</td>\n",
       "      <td>13.73781</td>\n",
       "    </tr>\n",
       "    <tr>\n",
       "      <th>3</th>\n",
       "      <td>1099</td>\n",
       "      <td>01099 Dresden</td>\n",
       "      <td>28018</td>\n",
       "      <td>58.505818</td>\n",
       "      <td>51.09272</td>\n",
       "      <td>13.82842</td>\n",
       "    </tr>\n",
       "    <tr>\n",
       "      <th>4</th>\n",
       "      <td>1108</td>\n",
       "      <td>01108 Dresden</td>\n",
       "      <td>5876</td>\n",
       "      <td>16.447222</td>\n",
       "      <td>51.15180</td>\n",
       "      <td>13.79227</td>\n",
       "    </tr>\n",
       "  </tbody>\n",
       "</table>\n",
       "</div>"
      ],
      "text/plain": [
       "    plz           note  einwohner        qkm       lat       lon\n",
       "0  1067  01067 Dresden      11957   6.866839  51.06019  13.71117\n",
       "1  1069  01069 Dresden      25483   5.339213  51.03964  13.73030\n",
       "2  1097  01097 Dresden      14821   3.298022  51.06945  13.73781\n",
       "3  1099  01099 Dresden      28018  58.505818  51.09272  13.82842\n",
       "4  1108  01108 Dresden       5876  16.447222  51.15180  13.79227"
      ]
     },
     "execution_count": 3,
     "metadata": {},
     "output_type": "execute_result"
    }
   ],
   "source": [
    "population_data.head()"
   ]
  },
  {
   "cell_type": "code",
   "execution_count": 4,
   "id": "82b0f36d-7e52-4614-a5ae-6fd0485c23b9",
   "metadata": {},
   "outputs": [
    {
     "name": "stdout",
     "output_type": "stream",
     "text": [
      "Index(['plz', 'note', 'einwohner', 'qkm', 'lat', 'lon'], dtype='object')\n"
     ]
    }
   ],
   "source": [
    "print(population_data.columns)"
   ]
  },
  {
   "cell_type": "code",
   "execution_count": 5,
   "id": "9897e8c0-5c81-4a52-9dbb-6aff6bd28658",
   "metadata": {},
   "outputs": [],
   "source": [
    "population_data.rename(columns={\"plz\": \"PLZ\", \"einwohner\": \"Population\"}, inplace=True)"
   ]
  },
  {
   "cell_type": "code",
   "execution_count": 6,
   "id": "7b15355f-bc85-4b78-9c36-562e20e221a9",
   "metadata": {},
   "outputs": [
    {
     "data": {
      "text/html": [
       "<div>\n",
       "<style scoped>\n",
       "    .dataframe tbody tr th:only-of-type {\n",
       "        vertical-align: middle;\n",
       "    }\n",
       "\n",
       "    .dataframe tbody tr th {\n",
       "        vertical-align: top;\n",
       "    }\n",
       "\n",
       "    .dataframe thead th {\n",
       "        text-align: right;\n",
       "    }\n",
       "</style>\n",
       "<table border=\"1\" class=\"dataframe\">\n",
       "  <thead>\n",
       "    <tr style=\"text-align: right;\">\n",
       "      <th></th>\n",
       "      <th>PLZ</th>\n",
       "      <th>note</th>\n",
       "      <th>Population</th>\n",
       "      <th>qkm</th>\n",
       "      <th>lat</th>\n",
       "      <th>lon</th>\n",
       "    </tr>\n",
       "  </thead>\n",
       "  <tbody>\n",
       "    <tr>\n",
       "      <th>0</th>\n",
       "      <td>1067</td>\n",
       "      <td>01067 Dresden</td>\n",
       "      <td>11957</td>\n",
       "      <td>6.866839</td>\n",
       "      <td>51.06019</td>\n",
       "      <td>13.71117</td>\n",
       "    </tr>\n",
       "    <tr>\n",
       "      <th>1</th>\n",
       "      <td>1069</td>\n",
       "      <td>01069 Dresden</td>\n",
       "      <td>25483</td>\n",
       "      <td>5.339213</td>\n",
       "      <td>51.03964</td>\n",
       "      <td>13.73030</td>\n",
       "    </tr>\n",
       "    <tr>\n",
       "      <th>2</th>\n",
       "      <td>1097</td>\n",
       "      <td>01097 Dresden</td>\n",
       "      <td>14821</td>\n",
       "      <td>3.298022</td>\n",
       "      <td>51.06945</td>\n",
       "      <td>13.73781</td>\n",
       "    </tr>\n",
       "  </tbody>\n",
       "</table>\n",
       "</div>"
      ],
      "text/plain": [
       "    PLZ           note  Population       qkm       lat       lon\n",
       "0  1067  01067 Dresden       11957  6.866839  51.06019  13.71117\n",
       "1  1069  01069 Dresden       25483  5.339213  51.03964  13.73030\n",
       "2  1097  01097 Dresden       14821  3.298022  51.06945  13.73781"
      ]
     },
     "execution_count": 6,
     "metadata": {},
     "output_type": "execute_result"
    }
   ],
   "source": [
    "population_data.head(3)"
   ]
  },
  {
   "cell_type": "code",
   "execution_count": 7,
   "id": "5fd8329b-001c-4322-9016-a6438887ba28",
   "metadata": {},
   "outputs": [
    {
     "data": {
      "text/html": [
       "<div>\n",
       "<style scoped>\n",
       "    .dataframe tbody tr th:only-of-type {\n",
       "        vertical-align: middle;\n",
       "    }\n",
       "\n",
       "    .dataframe tbody tr th {\n",
       "        vertical-align: top;\n",
       "    }\n",
       "\n",
       "    .dataframe thead th {\n",
       "        text-align: right;\n",
       "    }\n",
       "</style>\n",
       "<table border=\"1\" class=\"dataframe\">\n",
       "  <thead>\n",
       "    <tr style=\"text-align: right;\">\n",
       "      <th></th>\n",
       "      <th>Betreiber</th>\n",
       "      <th>Anzeigename (Karte)</th>\n",
       "      <th>Straße</th>\n",
       "      <th>Hausnummer</th>\n",
       "      <th>Adresszusatz</th>\n",
       "      <th>Postleitzahl</th>\n",
       "      <th>Ort</th>\n",
       "      <th>Kreis/kreisfreie Stadt</th>\n",
       "      <th>Bundesland</th>\n",
       "      <th>Breitengrad</th>\n",
       "      <th>...</th>\n",
       "      <th>Public Key3</th>\n",
       "      <th>Steckertypen4</th>\n",
       "      <th>P4 [kW]</th>\n",
       "      <th>Public Key4</th>\n",
       "      <th>Steckertypen5</th>\n",
       "      <th>P5 [kW]</th>\n",
       "      <th>Public Key5</th>\n",
       "      <th>Steckertypen6</th>\n",
       "      <th>P6 [kW]</th>\n",
       "      <th>Public Key6</th>\n",
       "    </tr>\n",
       "  </thead>\n",
       "  <tbody>\n",
       "    <tr>\n",
       "      <th>0</th>\n",
       "      <td>Albwerk GmbH &amp; Co. KG</td>\n",
       "      <td>Albwerk GmbH &amp; Co. KG</td>\n",
       "      <td>Ennabeurer Weg</td>\n",
       "      <td>0</td>\n",
       "      <td>NaN</td>\n",
       "      <td>72535</td>\n",
       "      <td>Heroldstatt</td>\n",
       "      <td>Landkreis Alb-Donau-Kreis</td>\n",
       "      <td>Baden-Württemberg</td>\n",
       "      <td>48,442398</td>\n",
       "      <td>...</td>\n",
       "      <td>NaN</td>\n",
       "      <td>NaN</td>\n",
       "      <td>NaN</td>\n",
       "      <td>NaN</td>\n",
       "      <td>NaN</td>\n",
       "      <td>NaN</td>\n",
       "      <td>NaN</td>\n",
       "      <td>NaN</td>\n",
       "      <td>NaN</td>\n",
       "      <td>NaN</td>\n",
       "    </tr>\n",
       "    <tr>\n",
       "      <th>1</th>\n",
       "      <td>smopi® - Multi Chargepoint Solution GmbH</td>\n",
       "      <td>smopi</td>\n",
       "      <td>Albstraße</td>\n",
       "      <td>15</td>\n",
       "      <td>NaN</td>\n",
       "      <td>72535</td>\n",
       "      <td>Heroldstatt</td>\n",
       "      <td>Landkreis Alb-Donau-Kreis</td>\n",
       "      <td>Baden-Württemberg</td>\n",
       "      <td>48,449424</td>\n",
       "      <td>...</td>\n",
       "      <td>NaN</td>\n",
       "      <td>AC Typ 2 Steckdose</td>\n",
       "      <td>22.0</td>\n",
       "      <td>NaN</td>\n",
       "      <td>NaN</td>\n",
       "      <td>NaN</td>\n",
       "      <td>NaN</td>\n",
       "      <td>NaN</td>\n",
       "      <td>NaN</td>\n",
       "      <td>NaN</td>\n",
       "    </tr>\n",
       "    <tr>\n",
       "      <th>2</th>\n",
       "      <td>smopi® - Multi Chargepoint Solution GmbH</td>\n",
       "      <td>smopi</td>\n",
       "      <td>Albstraße</td>\n",
       "      <td>15</td>\n",
       "      <td>NaN</td>\n",
       "      <td>72535</td>\n",
       "      <td>Heroldstatt</td>\n",
       "      <td>Landkreis Alb-Donau-Kreis</td>\n",
       "      <td>Baden-Württemberg</td>\n",
       "      <td>48,449424</td>\n",
       "      <td>...</td>\n",
       "      <td>NaN</td>\n",
       "      <td>AC Typ 2 Steckdose</td>\n",
       "      <td>22.0</td>\n",
       "      <td>NaN</td>\n",
       "      <td>NaN</td>\n",
       "      <td>NaN</td>\n",
       "      <td>NaN</td>\n",
       "      <td>NaN</td>\n",
       "      <td>NaN</td>\n",
       "      <td>NaN</td>\n",
       "    </tr>\n",
       "    <tr>\n",
       "      <th>3</th>\n",
       "      <td>smopi® - Multi Chargepoint Solution GmbH</td>\n",
       "      <td>smopi</td>\n",
       "      <td>Albstraße</td>\n",
       "      <td>15</td>\n",
       "      <td>NaN</td>\n",
       "      <td>72535</td>\n",
       "      <td>Heroldstatt</td>\n",
       "      <td>Landkreis Alb-Donau-Kreis</td>\n",
       "      <td>Baden-Württemberg</td>\n",
       "      <td>48,449424</td>\n",
       "      <td>...</td>\n",
       "      <td>NaN</td>\n",
       "      <td>NaN</td>\n",
       "      <td>NaN</td>\n",
       "      <td>NaN</td>\n",
       "      <td>NaN</td>\n",
       "      <td>NaN</td>\n",
       "      <td>NaN</td>\n",
       "      <td>NaN</td>\n",
       "      <td>NaN</td>\n",
       "      <td>NaN</td>\n",
       "    </tr>\n",
       "    <tr>\n",
       "      <th>4</th>\n",
       "      <td>Albwerk GmbH &amp; Co. KG</td>\n",
       "      <td>Albwerk GmbH &amp; Co. KG</td>\n",
       "      <td>Parkplatz Campingplatz</td>\n",
       "      <td>0</td>\n",
       "      <td>NaN</td>\n",
       "      <td>72589</td>\n",
       "      <td>Westerheim</td>\n",
       "      <td>Landkreis Alb-Donau-Kreis</td>\n",
       "      <td>Baden-Württemberg</td>\n",
       "      <td>48,5105</td>\n",
       "      <td>...</td>\n",
       "      <td>NaN</td>\n",
       "      <td>NaN</td>\n",
       "      <td>NaN</td>\n",
       "      <td>NaN</td>\n",
       "      <td>NaN</td>\n",
       "      <td>NaN</td>\n",
       "      <td>NaN</td>\n",
       "      <td>NaN</td>\n",
       "      <td>NaN</td>\n",
       "      <td>NaN</td>\n",
       "    </tr>\n",
       "  </tbody>\n",
       "</table>\n",
       "<p>5 rows × 33 columns</p>\n",
       "</div>"
      ],
      "text/plain": [
       "                                  Betreiber    Anzeigename (Karte)  \\\n",
       "0                     Albwerk GmbH & Co. KG  Albwerk GmbH & Co. KG   \n",
       "1  smopi® - Multi Chargepoint Solution GmbH                  smopi   \n",
       "2  smopi® - Multi Chargepoint Solution GmbH                  smopi   \n",
       "3  smopi® - Multi Chargepoint Solution GmbH                  smopi   \n",
       "4                     Albwerk GmbH & Co. KG  Albwerk GmbH & Co. KG   \n",
       "\n",
       "                   Straße Hausnummer Adresszusatz  Postleitzahl          Ort  \\\n",
       "0          Ennabeurer Weg          0          NaN         72535  Heroldstatt   \n",
       "1               Albstraße         15          NaN         72535  Heroldstatt   \n",
       "2               Albstraße         15          NaN         72535  Heroldstatt   \n",
       "3               Albstraße         15          NaN         72535  Heroldstatt   \n",
       "4  Parkplatz Campingplatz          0          NaN         72589   Westerheim   \n",
       "\n",
       "      Kreis/kreisfreie Stadt         Bundesland Breitengrad  ... Public Key3  \\\n",
       "0  Landkreis Alb-Donau-Kreis  Baden-Württemberg   48,442398  ...         NaN   \n",
       "1  Landkreis Alb-Donau-Kreis  Baden-Württemberg   48,449424  ...         NaN   \n",
       "2  Landkreis Alb-Donau-Kreis  Baden-Württemberg   48,449424  ...         NaN   \n",
       "3  Landkreis Alb-Donau-Kreis  Baden-Württemberg   48,449424  ...         NaN   \n",
       "4  Landkreis Alb-Donau-Kreis  Baden-Württemberg     48,5105  ...         NaN   \n",
       "\n",
       "        Steckertypen4  P4 [kW] Public Key4  Steckertypen5 P5 [kW]  \\\n",
       "0                 NaN      NaN         NaN            NaN     NaN   \n",
       "1  AC Typ 2 Steckdose     22.0         NaN            NaN     NaN   \n",
       "2  AC Typ 2 Steckdose     22.0         NaN            NaN     NaN   \n",
       "3                 NaN      NaN         NaN            NaN     NaN   \n",
       "4                 NaN      NaN         NaN            NaN     NaN   \n",
       "\n",
       "   Public Key5 Steckertypen6 P6 [kW]  Public Key6  \n",
       "0          NaN           NaN     NaN          NaN  \n",
       "1          NaN           NaN     NaN          NaN  \n",
       "2          NaN           NaN     NaN          NaN  \n",
       "3          NaN           NaN     NaN          NaN  \n",
       "4          NaN           NaN     NaN          NaN  \n",
       "\n",
       "[5 rows x 33 columns]"
      ]
     },
     "execution_count": 7,
     "metadata": {},
     "output_type": "execute_result"
    }
   ],
   "source": [
    "charging_stations_data.head()"
   ]
  },
  {
   "cell_type": "code",
   "execution_count": 8,
   "id": "b49b6c66-25ba-460b-ba33-7603e88fa03e",
   "metadata": {},
   "outputs": [],
   "source": [
    "df = charging_stations_data.loc[:,['Postleitzahl', 'Bundesland', 'Breitengrad', 'Längengrad', 'Nennleistung Ladeeinrichtung [kW]']]"
   ]
  },
  {
   "cell_type": "code",
   "execution_count": 9,
   "id": "8b981df5-d4f6-4b0d-b8b2-8b9970a34964",
   "metadata": {},
   "outputs": [
    {
     "data": {
      "text/html": [
       "<div>\n",
       "<style scoped>\n",
       "    .dataframe tbody tr th:only-of-type {\n",
       "        vertical-align: middle;\n",
       "    }\n",
       "\n",
       "    .dataframe tbody tr th {\n",
       "        vertical-align: top;\n",
       "    }\n",
       "\n",
       "    .dataframe thead th {\n",
       "        text-align: right;\n",
       "    }\n",
       "</style>\n",
       "<table border=\"1\" class=\"dataframe\">\n",
       "  <thead>\n",
       "    <tr style=\"text-align: right;\">\n",
       "      <th></th>\n",
       "      <th>Postleitzahl</th>\n",
       "      <th>Bundesland</th>\n",
       "      <th>Breitengrad</th>\n",
       "      <th>Längengrad</th>\n",
       "      <th>Nennleistung Ladeeinrichtung [kW]</th>\n",
       "    </tr>\n",
       "  </thead>\n",
       "  <tbody>\n",
       "    <tr>\n",
       "      <th>0</th>\n",
       "      <td>72535</td>\n",
       "      <td>Baden-Württemberg</td>\n",
       "      <td>48,442398</td>\n",
       "      <td>9,659075</td>\n",
       "      <td>22.0</td>\n",
       "    </tr>\n",
       "    <tr>\n",
       "      <th>1</th>\n",
       "      <td>72535</td>\n",
       "      <td>Baden-Württemberg</td>\n",
       "      <td>48,449424</td>\n",
       "      <td>9,672201</td>\n",
       "      <td>22.0</td>\n",
       "    </tr>\n",
       "    <tr>\n",
       "      <th>2</th>\n",
       "      <td>72535</td>\n",
       "      <td>Baden-Württemberg</td>\n",
       "      <td>48,449424</td>\n",
       "      <td>9,672201</td>\n",
       "      <td>22.0</td>\n",
       "    </tr>\n",
       "  </tbody>\n",
       "</table>\n",
       "</div>"
      ],
      "text/plain": [
       "   Postleitzahl         Bundesland Breitengrad Längengrad  \\\n",
       "0         72535  Baden-Württemberg   48,442398   9,659075   \n",
       "1         72535  Baden-Württemberg   48,449424   9,672201   \n",
       "2         72535  Baden-Württemberg   48,449424   9,672201   \n",
       "\n",
       "   Nennleistung Ladeeinrichtung [kW]  \n",
       "0                               22.0  \n",
       "1                               22.0  \n",
       "2                               22.0  "
      ]
     },
     "execution_count": 9,
     "metadata": {},
     "output_type": "execute_result"
    }
   ],
   "source": [
    "df.head(3)"
   ]
  },
  {
   "cell_type": "code",
   "execution_count": 10,
   "id": "c29e837c-af44-470a-a1c3-29118e1ceb47",
   "metadata": {},
   "outputs": [],
   "source": [
    "df.rename(columns  = {\"Nennleistung Ladeeinrichtung [kW]\":\"KW\", \"Postleitzahl\": \"PLZ\"}, inplace = True)"
   ]
  },
  {
   "cell_type": "code",
   "execution_count": 11,
   "id": "96d6b828-b0c3-4d0f-b846-7e7b63c20347",
   "metadata": {},
   "outputs": [
    {
     "data": {
      "text/html": [
       "<div>\n",
       "<style scoped>\n",
       "    .dataframe tbody tr th:only-of-type {\n",
       "        vertical-align: middle;\n",
       "    }\n",
       "\n",
       "    .dataframe tbody tr th {\n",
       "        vertical-align: top;\n",
       "    }\n",
       "\n",
       "    .dataframe thead th {\n",
       "        text-align: right;\n",
       "    }\n",
       "</style>\n",
       "<table border=\"1\" class=\"dataframe\">\n",
       "  <thead>\n",
       "    <tr style=\"text-align: right;\">\n",
       "      <th></th>\n",
       "      <th>PLZ</th>\n",
       "      <th>Bundesland</th>\n",
       "      <th>Breitengrad</th>\n",
       "      <th>Längengrad</th>\n",
       "      <th>KW</th>\n",
       "    </tr>\n",
       "  </thead>\n",
       "  <tbody>\n",
       "    <tr>\n",
       "      <th>0</th>\n",
       "      <td>72535</td>\n",
       "      <td>Baden-Württemberg</td>\n",
       "      <td>48,442398</td>\n",
       "      <td>9,659075</td>\n",
       "      <td>22.0</td>\n",
       "    </tr>\n",
       "    <tr>\n",
       "      <th>1</th>\n",
       "      <td>72535</td>\n",
       "      <td>Baden-Württemberg</td>\n",
       "      <td>48,449424</td>\n",
       "      <td>9,672201</td>\n",
       "      <td>22.0</td>\n",
       "    </tr>\n",
       "  </tbody>\n",
       "</table>\n",
       "</div>"
      ],
      "text/plain": [
       "     PLZ         Bundesland Breitengrad Längengrad    KW\n",
       "0  72535  Baden-Württemberg   48,442398   9,659075  22.0\n",
       "1  72535  Baden-Württemberg   48,449424   9,672201  22.0"
      ]
     },
     "execution_count": 11,
     "metadata": {},
     "output_type": "execute_result"
    }
   ],
   "source": [
    "df.head(2)"
   ]
  },
  {
   "cell_type": "code",
   "execution_count": 12,
   "id": "0ae656ca-6b36-4d62-855a-87962dad2218",
   "metadata": {},
   "outputs": [],
   "source": [
    "df['Breitengrad'] = df['Breitengrad'].astype('str')\n",
    "df['Längengrad'] = df['Längengrad'].astype('str')"
   ]
  },
  {
   "cell_type": "code",
   "execution_count": 13,
   "id": "87bc9325-1d64-4888-bde4-a55e999d6325",
   "metadata": {},
   "outputs": [],
   "source": [
    "df['Breitengrad'] = df['Breitengrad'].str.replace(',','.')\n",
    "df['Längengrad'] = df['Längengrad'].str.replace(',','.')"
   ]
  },
  {
   "cell_type": "code",
   "execution_count": 14,
   "id": "f5d28b25-8094-4bbe-a3e8-624cf4748408",
   "metadata": {},
   "outputs": [],
   "source": [
    "charging_counts = df.groupby(\"PLZ\").size().reset_index(name='ChargingStations')"
   ]
  },
  {
   "cell_type": "code",
   "execution_count": 15,
   "id": "b4be8921-7973-41ae-a24f-e9081a128935",
   "metadata": {},
   "outputs": [
    {
     "data": {
      "text/html": [
       "<div>\n",
       "<style scoped>\n",
       "    .dataframe tbody tr th:only-of-type {\n",
       "        vertical-align: middle;\n",
       "    }\n",
       "\n",
       "    .dataframe tbody tr th {\n",
       "        vertical-align: top;\n",
       "    }\n",
       "\n",
       "    .dataframe thead th {\n",
       "        text-align: right;\n",
       "    }\n",
       "</style>\n",
       "<table border=\"1\" class=\"dataframe\">\n",
       "  <thead>\n",
       "    <tr style=\"text-align: right;\">\n",
       "      <th></th>\n",
       "      <th>PLZ</th>\n",
       "      <th>ChargingStations</th>\n",
       "    </tr>\n",
       "  </thead>\n",
       "  <tbody>\n",
       "    <tr>\n",
       "      <th>0</th>\n",
       "      <td>1011</td>\n",
       "      <td>1</td>\n",
       "    </tr>\n",
       "    <tr>\n",
       "      <th>1</th>\n",
       "      <td>1036</td>\n",
       "      <td>1</td>\n",
       "    </tr>\n",
       "    <tr>\n",
       "      <th>2</th>\n",
       "      <td>1062</td>\n",
       "      <td>1</td>\n",
       "    </tr>\n",
       "    <tr>\n",
       "      <th>3</th>\n",
       "      <td>1067</td>\n",
       "      <td>60</td>\n",
       "    </tr>\n",
       "    <tr>\n",
       "      <th>4</th>\n",
       "      <td>1068</td>\n",
       "      <td>1</td>\n",
       "    </tr>\n",
       "    <tr>\n",
       "      <th>...</th>\n",
       "      <td>...</td>\n",
       "      <td>...</td>\n",
       "    </tr>\n",
       "    <tr>\n",
       "      <th>6897</th>\n",
       "      <td>99986</td>\n",
       "      <td>2</td>\n",
       "    </tr>\n",
       "    <tr>\n",
       "      <th>6898</th>\n",
       "      <td>99988</td>\n",
       "      <td>2</td>\n",
       "    </tr>\n",
       "    <tr>\n",
       "      <th>6899</th>\n",
       "      <td>99991</td>\n",
       "      <td>1</td>\n",
       "    </tr>\n",
       "    <tr>\n",
       "      <th>6900</th>\n",
       "      <td>99994</td>\n",
       "      <td>2</td>\n",
       "    </tr>\n",
       "    <tr>\n",
       "      <th>6901</th>\n",
       "      <td>99996</td>\n",
       "      <td>1</td>\n",
       "    </tr>\n",
       "  </tbody>\n",
       "</table>\n",
       "<p>6902 rows × 2 columns</p>\n",
       "</div>"
      ],
      "text/plain": [
       "        PLZ  ChargingStations\n",
       "0      1011                 1\n",
       "1      1036                 1\n",
       "2      1062                 1\n",
       "3      1067                60\n",
       "4      1068                 1\n",
       "...     ...               ...\n",
       "6897  99986                 2\n",
       "6898  99988                 2\n",
       "6899  99991                 1\n",
       "6900  99994                 2\n",
       "6901  99996                 1\n",
       "\n",
       "[6902 rows x 2 columns]"
      ]
     },
     "execution_count": 15,
     "metadata": {},
     "output_type": "execute_result"
    }
   ],
   "source": [
    "charging_counts"
   ]
  },
  {
   "cell_type": "code",
   "execution_count": 16,
   "id": "32951668-a0dd-4cf0-910d-65ba595e50db",
   "metadata": {},
   "outputs": [],
   "source": [
    "merged_data = pd.merge(population_data, charging_counts, on=\"PLZ\", how=\"left\")"
   ]
  },
  {
   "cell_type": "code",
   "execution_count": 17,
   "id": "405f26cc-fc93-4003-a019-bfc43be5398f",
   "metadata": {},
   "outputs": [
    {
     "data": {
      "text/plain": [
       "(8170, 6)"
      ]
     },
     "execution_count": 17,
     "metadata": {},
     "output_type": "execute_result"
    }
   ],
   "source": [
    "population_data.shape"
   ]
  },
  {
   "cell_type": "code",
   "execution_count": 18,
   "id": "3a9507c0-5ed8-43af-9467-40e313410482",
   "metadata": {},
   "outputs": [
    {
     "data": {
      "text/plain": [
       "(6902, 2)"
      ]
     },
     "execution_count": 18,
     "metadata": {},
     "output_type": "execute_result"
    }
   ],
   "source": [
    "charging_counts.shape"
   ]
  },
  {
   "cell_type": "code",
   "execution_count": 19,
   "id": "65caf70b-5da5-437e-a978-d59a669395b4",
   "metadata": {},
   "outputs": [
    {
     "data": {
      "text/plain": [
       "(8170, 7)"
      ]
     },
     "execution_count": 19,
     "metadata": {},
     "output_type": "execute_result"
    }
   ],
   "source": [
    "merged_data.shape"
   ]
  },
  {
   "cell_type": "code",
   "execution_count": 20,
   "id": "1404a91f-1005-45eb-9f63-7b4a3a432839",
   "metadata": {},
   "outputs": [
    {
     "name": "stdout",
     "output_type": "stream",
     "text": [
      "<class 'pandas.core.frame.DataFrame'>\n",
      "RangeIndex: 8170 entries, 0 to 8169\n",
      "Data columns (total 7 columns):\n",
      " #   Column            Non-Null Count  Dtype  \n",
      "---  ------            --------------  -----  \n",
      " 0   PLZ               8170 non-null   int64  \n",
      " 1   note              8170 non-null   object \n",
      " 2   Population        8170 non-null   int64  \n",
      " 3   qkm               8170 non-null   float64\n",
      " 4   lat               8170 non-null   float64\n",
      " 5   lon               8170 non-null   float64\n",
      " 6   ChargingStations  6606 non-null   float64\n",
      "dtypes: float64(4), int64(2), object(1)\n",
      "memory usage: 446.9+ KB\n"
     ]
    }
   ],
   "source": [
    "merged_data.info()"
   ]
  },
  {
   "cell_type": "code",
   "execution_count": 21,
   "id": "19ebe6f8-c3d5-4417-8200-9ff443e2cb01",
   "metadata": {},
   "outputs": [
    {
     "name": "stderr",
     "output_type": "stream",
     "text": [
      "C:\\Users\\Gaurav\\AppData\\Local\\Temp\\ipykernel_6340\\450564457.py:1: FutureWarning: A value is trying to be set on a copy of a DataFrame or Series through chained assignment using an inplace method.\n",
      "The behavior will change in pandas 3.0. This inplace method will never work because the intermediate object on which we are setting values always behaves as a copy.\n",
      "\n",
      "For example, when doing 'df[col].method(value, inplace=True)', try using 'df.method({col: value}, inplace=True)' or df[col] = df[col].method(value) instead, to perform the operation inplace on the original object.\n",
      "\n",
      "\n",
      "  merged_data[\"ChargingStations\"].fillna(0, inplace=True)\n"
     ]
    }
   ],
   "source": [
    "merged_data[\"ChargingStations\"].fillna(0, inplace=True)"
   ]
  },
  {
   "cell_type": "code",
   "execution_count": 22,
   "id": "2c02d09b-c85c-49ae-9711-f6e7e18254a6",
   "metadata": {},
   "outputs": [],
   "source": [
    "merged_data[\"PopulationPerStation\"] = merged_data[\"Population\"] / (merged_data[\"ChargingStations\"] + 1)"
   ]
  },
  {
   "cell_type": "code",
   "execution_count": 23,
   "id": "dfc68682-15ad-426b-97e3-ca2b48c40b43",
   "metadata": {},
   "outputs": [
    {
     "data": {
      "text/html": [
       "<div>\n",
       "<style scoped>\n",
       "    .dataframe tbody tr th:only-of-type {\n",
       "        vertical-align: middle;\n",
       "    }\n",
       "\n",
       "    .dataframe tbody tr th {\n",
       "        vertical-align: top;\n",
       "    }\n",
       "\n",
       "    .dataframe thead th {\n",
       "        text-align: right;\n",
       "    }\n",
       "</style>\n",
       "<table border=\"1\" class=\"dataframe\">\n",
       "  <thead>\n",
       "    <tr style=\"text-align: right;\">\n",
       "      <th></th>\n",
       "      <th>PLZ</th>\n",
       "      <th>note</th>\n",
       "      <th>Population</th>\n",
       "      <th>qkm</th>\n",
       "      <th>lat</th>\n",
       "      <th>lon</th>\n",
       "      <th>ChargingStations</th>\n",
       "      <th>PopulationPerStation</th>\n",
       "    </tr>\n",
       "  </thead>\n",
       "  <tbody>\n",
       "    <tr>\n",
       "      <th>0</th>\n",
       "      <td>1067</td>\n",
       "      <td>01067 Dresden</td>\n",
       "      <td>11957</td>\n",
       "      <td>6.866839</td>\n",
       "      <td>51.06019</td>\n",
       "      <td>13.71117</td>\n",
       "      <td>60.0</td>\n",
       "      <td>196.016393</td>\n",
       "    </tr>\n",
       "    <tr>\n",
       "      <th>1</th>\n",
       "      <td>1069</td>\n",
       "      <td>01069 Dresden</td>\n",
       "      <td>25483</td>\n",
       "      <td>5.339213</td>\n",
       "      <td>51.03964</td>\n",
       "      <td>13.73030</td>\n",
       "      <td>51.0</td>\n",
       "      <td>490.057692</td>\n",
       "    </tr>\n",
       "  </tbody>\n",
       "</table>\n",
       "</div>"
      ],
      "text/plain": [
       "    PLZ           note  Population       qkm       lat       lon  \\\n",
       "0  1067  01067 Dresden       11957  6.866839  51.06019  13.71117   \n",
       "1  1069  01069 Dresden       25483  5.339213  51.03964  13.73030   \n",
       "\n",
       "   ChargingStations  PopulationPerStation  \n",
       "0              60.0            196.016393  \n",
       "1              51.0            490.057692  "
      ]
     },
     "execution_count": 23,
     "metadata": {},
     "output_type": "execute_result"
    }
   ],
   "source": [
    "merged_data.head(2)"
   ]
  },
  {
   "cell_type": "code",
   "execution_count": 24,
   "id": "e6ed6c5e-1fd0-49d3-b469-8daabd3bf56f",
   "metadata": {},
   "outputs": [],
   "source": [
    "merged_data.drop(['note', 'qkm'], axis= 1, inplace= True)"
   ]
  },
  {
   "cell_type": "code",
   "execution_count": 25,
   "id": "69304464-0ecf-4691-998f-4eac25262a9b",
   "metadata": {},
   "outputs": [
    {
     "data": {
      "text/html": [
       "<div>\n",
       "<style scoped>\n",
       "    .dataframe tbody tr th:only-of-type {\n",
       "        vertical-align: middle;\n",
       "    }\n",
       "\n",
       "    .dataframe tbody tr th {\n",
       "        vertical-align: top;\n",
       "    }\n",
       "\n",
       "    .dataframe thead th {\n",
       "        text-align: right;\n",
       "    }\n",
       "</style>\n",
       "<table border=\"1\" class=\"dataframe\">\n",
       "  <thead>\n",
       "    <tr style=\"text-align: right;\">\n",
       "      <th></th>\n",
       "      <th>PLZ</th>\n",
       "      <th>Population</th>\n",
       "      <th>lat</th>\n",
       "      <th>lon</th>\n",
       "      <th>ChargingStations</th>\n",
       "      <th>PopulationPerStation</th>\n",
       "    </tr>\n",
       "  </thead>\n",
       "  <tbody>\n",
       "    <tr>\n",
       "      <th>0</th>\n",
       "      <td>1067</td>\n",
       "      <td>11957</td>\n",
       "      <td>51.06019</td>\n",
       "      <td>13.71117</td>\n",
       "      <td>60.0</td>\n",
       "      <td>196.016393</td>\n",
       "    </tr>\n",
       "    <tr>\n",
       "      <th>1</th>\n",
       "      <td>1069</td>\n",
       "      <td>25483</td>\n",
       "      <td>51.03964</td>\n",
       "      <td>13.73030</td>\n",
       "      <td>51.0</td>\n",
       "      <td>490.057692</td>\n",
       "    </tr>\n",
       "  </tbody>\n",
       "</table>\n",
       "</div>"
      ],
      "text/plain": [
       "    PLZ  Population       lat       lon  ChargingStations  \\\n",
       "0  1067       11957  51.06019  13.71117              60.0   \n",
       "1  1069       25483  51.03964  13.73030              51.0   \n",
       "\n",
       "   PopulationPerStation  \n",
       "0            196.016393  \n",
       "1            490.057692  "
      ]
     },
     "execution_count": 25,
     "metadata": {},
     "output_type": "execute_result"
    }
   ],
   "source": [
    "merged_data.head(2)"
   ]
  },
  {
   "cell_type": "code",
   "execution_count": 26,
   "id": "d6a43ed5-9bdf-438d-809a-6738f6acb0d4",
   "metadata": {},
   "outputs": [
    {
     "data": {
      "text/html": [
       "<div>\n",
       "<style scoped>\n",
       "    .dataframe tbody tr th:only-of-type {\n",
       "        vertical-align: middle;\n",
       "    }\n",
       "\n",
       "    .dataframe tbody tr th {\n",
       "        vertical-align: top;\n",
       "    }\n",
       "\n",
       "    .dataframe thead th {\n",
       "        text-align: right;\n",
       "    }\n",
       "</style>\n",
       "<table border=\"1\" class=\"dataframe\">\n",
       "  <thead>\n",
       "    <tr style=\"text-align: right;\">\n",
       "      <th></th>\n",
       "      <th>plz</th>\n",
       "      <th>Einwohner</th>\n",
       "      <th>Breitengrad</th>\n",
       "      <th>Längengrad</th>\n",
       "      <th>ChargingStations</th>\n",
       "      <th>PopulationPerStation</th>\n",
       "    </tr>\n",
       "  </thead>\n",
       "  <tbody>\n",
       "    <tr>\n",
       "      <th>0</th>\n",
       "      <td>1067</td>\n",
       "      <td>11957</td>\n",
       "      <td>51.06019</td>\n",
       "      <td>13.71117</td>\n",
       "      <td>60.0</td>\n",
       "      <td>196.016393</td>\n",
       "    </tr>\n",
       "    <tr>\n",
       "      <th>1</th>\n",
       "      <td>1069</td>\n",
       "      <td>25483</td>\n",
       "      <td>51.03964</td>\n",
       "      <td>13.73030</td>\n",
       "      <td>51.0</td>\n",
       "      <td>490.057692</td>\n",
       "    </tr>\n",
       "  </tbody>\n",
       "</table>\n",
       "</div>"
      ],
      "text/plain": [
       "    plz  Einwohner  Breitengrad  Längengrad  ChargingStations  \\\n",
       "0  1067      11957     51.06019    13.71117              60.0   \n",
       "1  1069      25483     51.03964    13.73030              51.0   \n",
       "\n",
       "   PopulationPerStation  \n",
       "0            196.016393  \n",
       "1            490.057692  "
      ]
     },
     "execution_count": 26,
     "metadata": {},
     "output_type": "execute_result"
    }
   ],
   "source": [
    "merged_data.rename(columns= {\"PLZ\": \"plz\", \"Population\": \"Einwohner\", \"lat\": \"Breitengrad\", \"lon\": \"Längengrad\"}, inplace= True)\n",
    "merged_data.head(2)"
   ]
  },
  {
   "cell_type": "code",
   "execution_count": 53,
   "id": "fb082285-a482-46f5-a430-2eaa7571cdd6",
   "metadata": {},
   "outputs": [
    {
     "name": "stdout",
     "output_type": "stream",
     "text": [
      "<class 'pandas.core.frame.DataFrame'>\n",
      "Index: 191 entries, 621 to 811\n",
      "Data columns (total 6 columns):\n",
      " #   Column                Non-Null Count  Dtype  \n",
      "---  ------                --------------  -----  \n",
      " 0   plz                   191 non-null    int64  \n",
      " 1   Einwohner             191 non-null    int64  \n",
      " 2   Breitengrad           191 non-null    float64\n",
      " 3   Längengrad            191 non-null    float64\n",
      " 4   ChargingStations      191 non-null    float64\n",
      " 5   PopulationPerStation  191 non-null    float64\n",
      "dtypes: float64(4), int64(2)\n",
      "memory usage: 10.4 KB\n"
     ]
    }
   ],
   "source": [
    "merged_data.info()"
   ]
  },
  {
   "cell_type": "code",
   "execution_count": 52,
   "id": "3c9dd72c-3b02-4f22-9d01-81e8ed47a71b",
   "metadata": {},
   "outputs": [],
   "source": [
    "merged_data = merged_data[(merged_data.plz > 10000) & (merged_data.plz < 14200)]"
   ]
  },
  {
   "cell_type": "code",
   "execution_count": 54,
   "id": "73e0df2e-ba75-40cd-8caa-b8b2317e1176",
   "metadata": {
    "scrolled": true
   },
   "outputs": [],
   "source": [
    "merged_data.to_csv(\"processed_data.csv\", index=False)"
   ]
  },
  {
   "cell_type": "code",
   "execution_count": 29,
   "id": "c86fc586-ff5f-4e66-92f7-9e6e1fbf8337",
   "metadata": {},
   "outputs": [],
   "source": [
    "import folium\n",
    "from folium.plugins import HeatMap"
   ]
  },
  {
   "cell_type": "code",
   "execution_count": 30,
   "id": "398eca67-f3da-406c-9960-164ecc3520fc",
   "metadata": {},
   "outputs": [],
   "source": [
    "geojson_file = \"plz-5stellig.geojson\""
   ]
  },
  {
   "cell_type": "code",
   "execution_count": 31,
   "id": "b039aaa6-bf41-44c7-9524-845f2aabe05c",
   "metadata": {},
   "outputs": [],
   "source": [
    "import geopandas as gpd"
   ]
  },
  {
   "cell_type": "code",
   "execution_count": 32,
   "id": "c718c3b3-e0d6-415f-93e2-b4996c3fd6cb",
   "metadata": {},
   "outputs": [
    {
     "data": {
      "text/plain": [
       "'plz-5stellig.geojson'"
      ]
     },
     "execution_count": 32,
     "metadata": {},
     "output_type": "execute_result"
    }
   ],
   "source": [
    "geojson_file"
   ]
  },
  {
   "cell_type": "code",
   "execution_count": 33,
   "id": "a760f24c-3a44-42b4-b7d0-35171e4cc443",
   "metadata": {},
   "outputs": [],
   "source": [
    "import geopandas as gpd"
   ]
  },
  {
   "cell_type": "code",
   "execution_count": 34,
   "id": "8f82e981-dbe8-405b-a760-8455fd8d866e",
   "metadata": {},
   "outputs": [],
   "source": [
    "geo_data = gpd.read_file(geojson_file)"
   ]
  },
  {
   "cell_type": "code",
   "execution_count": 35,
   "id": "bda9eb16-0c66-41b8-9074-8989b72ba602",
   "metadata": {},
   "outputs": [
    {
     "data": {
      "text/html": [
       "<div>\n",
       "<style scoped>\n",
       "    .dataframe tbody tr th:only-of-type {\n",
       "        vertical-align: middle;\n",
       "    }\n",
       "\n",
       "    .dataframe tbody tr th {\n",
       "        vertical-align: top;\n",
       "    }\n",
       "\n",
       "    .dataframe thead th {\n",
       "        text-align: right;\n",
       "    }\n",
       "</style>\n",
       "<table border=\"1\" class=\"dataframe\">\n",
       "  <thead>\n",
       "    <tr style=\"text-align: right;\">\n",
       "      <th></th>\n",
       "      <th>plz</th>\n",
       "      <th>note</th>\n",
       "      <th>einwohner</th>\n",
       "      <th>qkm</th>\n",
       "      <th>geometry</th>\n",
       "    </tr>\n",
       "  </thead>\n",
       "  <tbody>\n",
       "    <tr>\n",
       "      <th>0</th>\n",
       "      <td>64743</td>\n",
       "      <td>Situation unklar, evtl. haben die Häuser Marba...</td>\n",
       "      <td>3</td>\n",
       "      <td>0.082066</td>\n",
       "      <td>POLYGON ((8.98124 49.60761, 8.9814 49.6073, 8....</td>\n",
       "    </tr>\n",
       "    <tr>\n",
       "      <th>1</th>\n",
       "      <td>81248</td>\n",
       "      <td>81248 München</td>\n",
       "      <td>121</td>\n",
       "      <td>1.984763</td>\n",
       "      <td>POLYGON ((11.39468 48.14729, 11.39484 48.14654...</td>\n",
       "    </tr>\n",
       "  </tbody>\n",
       "</table>\n",
       "</div>"
      ],
      "text/plain": [
       "     plz                                               note  einwohner  \\\n",
       "0  64743  Situation unklar, evtl. haben die Häuser Marba...          3   \n",
       "1  81248                                      81248 München        121   \n",
       "\n",
       "        qkm                                           geometry  \n",
       "0  0.082066  POLYGON ((8.98124 49.60761, 8.9814 49.6073, 8....  \n",
       "1  1.984763  POLYGON ((11.39468 48.14729, 11.39484 48.14654...  "
      ]
     },
     "execution_count": 35,
     "metadata": {},
     "output_type": "execute_result"
    }
   ],
   "source": [
    "geo_data.head(2)"
   ]
  },
  {
   "cell_type": "code",
   "execution_count": 68,
   "id": "6eece781-98a7-474c-a79c-24cc5b487475",
   "metadata": {},
   "outputs": [
    {
     "data": {
      "text/html": [
       "<div>\n",
       "<style scoped>\n",
       "    .dataframe tbody tr th:only-of-type {\n",
       "        vertical-align: middle;\n",
       "    }\n",
       "\n",
       "    .dataframe tbody tr th {\n",
       "        vertical-align: top;\n",
       "    }\n",
       "\n",
       "    .dataframe thead th {\n",
       "        text-align: right;\n",
       "    }\n",
       "</style>\n",
       "<table border=\"1\" class=\"dataframe\">\n",
       "  <thead>\n",
       "    <tr style=\"text-align: right;\">\n",
       "      <th></th>\n",
       "      <th>plz</th>\n",
       "      <th>note</th>\n",
       "      <th>einwohner</th>\n",
       "      <th>qkm</th>\n",
       "      <th>geometry</th>\n",
       "    </tr>\n",
       "  </thead>\n",
       "  <tbody>\n",
       "    <tr>\n",
       "      <th>3838</th>\n",
       "      <td>10115</td>\n",
       "      <td>10115 Berlin Mitte</td>\n",
       "      <td>20313</td>\n",
       "      <td>2.393948</td>\n",
       "      <td>POLYGON ((13.36522 52.53628, 13.3657 52.53582,...</td>\n",
       "    </tr>\n",
       "  </tbody>\n",
       "</table>\n",
       "</div>"
      ],
      "text/plain": [
       "        plz                note  einwohner       qkm  \\\n",
       "3838  10115  10115 Berlin Mitte      20313  2.393948   \n",
       "\n",
       "                                               geometry  \n",
       "3838  POLYGON ((13.36522 52.53628, 13.3657 52.53582,...  "
      ]
     },
     "execution_count": 68,
     "metadata": {},
     "output_type": "execute_result"
    }
   ],
   "source": [
    "geo_data[geo_data.plz == 10115]"
   ]
  },
  {
   "cell_type": "code",
   "execution_count": 36,
   "id": "31006a00-d727-44f9-89d6-f8615004b718",
   "metadata": {},
   "outputs": [
    {
     "name": "stdout",
     "output_type": "stream",
     "text": [
      "<class 'geopandas.geodataframe.GeoDataFrame'>\n",
      "RangeIndex: 8170 entries, 0 to 8169\n",
      "Data columns (total 5 columns):\n",
      " #   Column     Non-Null Count  Dtype   \n",
      "---  ------     --------------  -----   \n",
      " 0   plz        8170 non-null   object  \n",
      " 1   note       8170 non-null   object  \n",
      " 2   einwohner  8170 non-null   int32   \n",
      " 3   qkm        8170 non-null   float64 \n",
      " 4   geometry   8170 non-null   geometry\n",
      "dtypes: float64(1), geometry(1), int32(1), object(2)\n",
      "memory usage: 287.4+ KB\n"
     ]
    }
   ],
   "source": [
    "geo_data.info()"
   ]
  },
  {
   "cell_type": "code",
   "execution_count": 37,
   "id": "948f9210-e81e-4bc0-aa22-60e1cad207c6",
   "metadata": {},
   "outputs": [],
   "source": [
    "geo_data['plz'] = geo_data['plz'].astype(int)"
   ]
  },
  {
   "cell_type": "code",
   "execution_count": 38,
   "id": "3f1f3173-a819-4eb3-83ce-58150bd06175",
   "metadata": {},
   "outputs": [
    {
     "name": "stdout",
     "output_type": "stream",
     "text": [
      "<class 'geopandas.geodataframe.GeoDataFrame'>\n",
      "RangeIndex: 8170 entries, 0 to 8169\n",
      "Data columns (total 5 columns):\n",
      " #   Column     Non-Null Count  Dtype   \n",
      "---  ------     --------------  -----   \n",
      " 0   plz        8170 non-null   int64   \n",
      " 1   note       8170 non-null   object  \n",
      " 2   einwohner  8170 non-null   int32   \n",
      " 3   qkm        8170 non-null   float64 \n",
      " 4   geometry   8170 non-null   geometry\n",
      "dtypes: float64(1), geometry(1), int32(1), int64(1), object(1)\n",
      "memory usage: 287.4+ KB\n"
     ]
    }
   ],
   "source": [
    "geo_data.info()"
   ]
  },
  {
   "cell_type": "code",
   "execution_count": 55,
   "id": "4707886d-238a-4a02-a12b-1f325dddc97e",
   "metadata": {},
   "outputs": [],
   "source": [
    "geo_merged = geo_data.merge(merged_data, on=\"plz\", how=\"left\")"
   ]
  },
  {
   "cell_type": "code",
   "execution_count": 69,
   "id": "6c6b5277-d874-42aa-82a6-e745fce2a3db",
   "metadata": {},
   "outputs": [],
   "source": [
    "geo_merged = geo_merged[(geo_merged.plz > 10000) & (geo_merged.plz < 14200)]"
   ]
  },
  {
   "cell_type": "code",
   "execution_count": 70,
   "id": "e6015e98-b01f-4550-b1a2-76da1bbafc4f",
   "metadata": {},
   "outputs": [
    {
     "data": {
      "text/html": [
       "<div>\n",
       "<style scoped>\n",
       "    .dataframe tbody tr th:only-of-type {\n",
       "        vertical-align: middle;\n",
       "    }\n",
       "\n",
       "    .dataframe tbody tr th {\n",
       "        vertical-align: top;\n",
       "    }\n",
       "\n",
       "    .dataframe thead th {\n",
       "        text-align: right;\n",
       "    }\n",
       "</style>\n",
       "<table border=\"1\" class=\"dataframe\">\n",
       "  <thead>\n",
       "    <tr style=\"text-align: right;\">\n",
       "      <th></th>\n",
       "      <th>plz</th>\n",
       "      <th>note</th>\n",
       "      <th>einwohner</th>\n",
       "      <th>qkm</th>\n",
       "      <th>geometry</th>\n",
       "      <th>Einwohner</th>\n",
       "      <th>Breitengrad</th>\n",
       "      <th>Längengrad</th>\n",
       "      <th>ChargingStations</th>\n",
       "      <th>PopulationPerStation</th>\n",
       "    </tr>\n",
       "  </thead>\n",
       "  <tbody>\n",
       "    <tr>\n",
       "      <th>3446</th>\n",
       "      <td>10789</td>\n",
       "      <td>10789 Berlin Schöneberg</td>\n",
       "      <td>4131</td>\n",
       "      <td>0.448729</td>\n",
       "      <td>POLYGON ((13.33073 52.49955, 13.33114 52.49952...</td>\n",
       "      <td>4131.0</td>\n",
       "      <td>52.50215</td>\n",
       "      <td>13.33801</td>\n",
       "      <td>10.0</td>\n",
       "      <td>375.545455</td>\n",
       "    </tr>\n",
       "    <tr>\n",
       "      <th>3476</th>\n",
       "      <td>10409</td>\n",
       "      <td>10409 Berlin Prenzlauer Berg</td>\n",
       "      <td>21656</td>\n",
       "      <td>1.751824</td>\n",
       "      <td>POLYGON ((13.42671 52.54456, 13.42724 52.54435...</td>\n",
       "      <td>21656.0</td>\n",
       "      <td>52.54423</td>\n",
       "      <td>13.44208</td>\n",
       "      <td>12.0</td>\n",
       "      <td>1665.846154</td>\n",
       "    </tr>\n",
       "    <tr>\n",
       "      <th>3528</th>\n",
       "      <td>10319</td>\n",
       "      <td>10319 Berlin</td>\n",
       "      <td>22951</td>\n",
       "      <td>3.574872</td>\n",
       "      <td>POLYGON ((13.49279 52.49743, 13.49399 52.49667...</td>\n",
       "      <td>22951.0</td>\n",
       "      <td>52.50056</td>\n",
       "      <td>13.52299</td>\n",
       "      <td>5.0</td>\n",
       "      <td>3825.166667</td>\n",
       "    </tr>\n",
       "  </tbody>\n",
       "</table>\n",
       "</div>"
      ],
      "text/plain": [
       "        plz                          note  einwohner       qkm  \\\n",
       "3446  10789       10789 Berlin Schöneberg       4131  0.448729   \n",
       "3476  10409  10409 Berlin Prenzlauer Berg      21656  1.751824   \n",
       "3528  10319                  10319 Berlin      22951  3.574872   \n",
       "\n",
       "                                               geometry  Einwohner  \\\n",
       "3446  POLYGON ((13.33073 52.49955, 13.33114 52.49952...     4131.0   \n",
       "3476  POLYGON ((13.42671 52.54456, 13.42724 52.54435...    21656.0   \n",
       "3528  POLYGON ((13.49279 52.49743, 13.49399 52.49667...    22951.0   \n",
       "\n",
       "      Breitengrad  Längengrad  ChargingStations  PopulationPerStation  \n",
       "3446     52.50215    13.33801              10.0            375.545455  \n",
       "3476     52.54423    13.44208              12.0           1665.846154  \n",
       "3528     52.50056    13.52299               5.0           3825.166667  "
      ]
     },
     "execution_count": 70,
     "metadata": {},
     "output_type": "execute_result"
    }
   ],
   "source": [
    "geo_merged.head(3)"
   ]
  },
  {
   "cell_type": "code",
   "execution_count": 77,
   "id": "a02747c7-d6fa-40cd-96ef-f03aecd4cd47",
   "metadata": {},
   "outputs": [],
   "source": [
    "geo_merged.to_csv(\"processed1_data.csv\", index=False)"
   ]
  },
  {
   "cell_type": "code",
   "execution_count": 78,
   "id": "9600153f-7eec-4da6-aae0-4b5fc829f275",
   "metadata": {},
   "outputs": [
    {
     "name": "stdout",
     "output_type": "stream",
     "text": [
      "<class 'geopandas.geodataframe.GeoDataFrame'>\n",
      "Index: 191 entries, 3446 to 8047\n",
      "Data columns (total 10 columns):\n",
      " #   Column                Non-Null Count  Dtype   \n",
      "---  ------                --------------  -----   \n",
      " 0   plz                   191 non-null    int64   \n",
      " 1   note                  191 non-null    object  \n",
      " 2   einwohner             191 non-null    int32   \n",
      " 3   qkm                   191 non-null    float64 \n",
      " 4   geometry              191 non-null    geometry\n",
      " 5   Einwohner             191 non-null    float64 \n",
      " 6   Breitengrad           191 non-null    float64 \n",
      " 7   Längengrad            191 non-null    float64 \n",
      " 8   ChargingStations      191 non-null    float64 \n",
      " 9   PopulationPerStation  191 non-null    float64 \n",
      "dtypes: float64(6), geometry(1), int32(1), int64(1), object(1)\n",
      "memory usage: 15.7+ KB\n"
     ]
    }
   ],
   "source": [
    "geo_merged.info()"
   ]
  },
  {
   "cell_type": "code",
   "execution_count": 71,
   "id": "a4ee53ce-7021-4684-b729-193a48317a25",
   "metadata": {},
   "outputs": [
    {
     "name": "stdout",
     "output_type": "stream",
     "text": [
      "<class 'geopandas.geodataframe.GeoDataFrame'>\n",
      "Index: 191 entries, 3446 to 8047\n",
      "Data columns (total 10 columns):\n",
      " #   Column                Non-Null Count  Dtype   \n",
      "---  ------                --------------  -----   \n",
      " 0   plz                   191 non-null    int64   \n",
      " 1   note                  191 non-null    object  \n",
      " 2   einwohner             191 non-null    int32   \n",
      " 3   qkm                   191 non-null    float64 \n",
      " 4   geometry              191 non-null    geometry\n",
      " 5   Einwohner             191 non-null    float64 \n",
      " 6   Breitengrad           191 non-null    float64 \n",
      " 7   Längengrad            191 non-null    float64 \n",
      " 8   ChargingStations      191 non-null    float64 \n",
      " 9   PopulationPerStation  191 non-null    float64 \n",
      "dtypes: float64(6), geometry(1), int32(1), int64(1), object(1)\n",
      "memory usage: 15.7+ KB\n"
     ]
    }
   ],
   "source": [
    "geo_merged.info()"
   ]
  },
  {
   "cell_type": "code",
   "execution_count": 74,
   "id": "3decc6ef-bb06-442a-b2d5-5fd55592be85",
   "metadata": {},
   "outputs": [],
   "source": [
    "m = folium.Map(location=[52.52, 13.40], zoom_start=11)"
   ]
  },
  {
   "cell_type": "code",
   "execution_count": 75,
   "id": "adbac18a-5f29-44aa-805a-ee664fb0e340",
   "metadata": {},
   "outputs": [
    {
     "data": {
      "text/plain": [
       "<folium.features.Choropleth at 0x1538001dee0>"
      ]
     },
     "execution_count": 75,
     "metadata": {},
     "output_type": "execute_result"
    }
   ],
   "source": [
    "folium.Choropleth(\n",
    "    geo_data=geo_merged,\n",
    "    data=geo_merged,\n",
    "    columns=[\"plz\", \"PopulationPerStation\"],\n",
    "    key_on=\"feature.properties.plz\",\n",
    "    fill_color=\"YlOrRd\",\n",
    "    fill_opacity=0.7,\n",
    "    line_opacity=0.2,\n",
    "    legend_name=\"Population per Charging Station\"\n",
    ").add_to(m)"
   ]
  },
  {
   "cell_type": "code",
   "execution_count": 76,
   "id": "537b5308-9827-4366-90bd-afe28e3f929b",
   "metadata": {},
   "outputs": [],
   "source": [
    "m.save(\"berlin_charging_stations_map.html\")"
   ]
  },
  {
   "cell_type": "code",
   "execution_count": 60,
   "id": "542e5e7b-ecf9-4a74-81e9-b60be1b8a813",
   "metadata": {},
   "outputs": [
    {
     "name": "stderr",
     "output_type": "stream",
     "text": [
      "2024-11-29 11:23:08.970 WARNING streamlit.runtime.scriptrunner_utils.script_run_context: Thread 'MainThread': missing ScriptRunContext! This warning can be ignored when running in bare mode.\n"
     ]
    }
   ],
   "source": [
    "import streamlit as st\n",
    "import pandas as pd\n",
    "import geopandas as gpd\n",
    "import folium\n",
    "from streamlit_folium import st_folium"
   ]
  },
  {
   "cell_type": "code",
   "execution_count": 57,
   "id": "ef0587e1-c79d-448b-8b89-bb0537fb9453",
   "metadata": {},
   "outputs": [],
   "source": [
    "data = pd.read_csv(\"processed_data.csv\")"
   ]
  },
  {
   "cell_type": "code",
   "execution_count": 62,
   "id": "fc0109c3-5acb-4f11-9a7f-370f32e8e056",
   "metadata": {},
   "outputs": [],
   "source": [
    "def create_map():\n",
    "    m = folium.Map(location=[52.5200, 13.4050], zoom_start=8)\n",
    "    folium.Choropleth(\n",
    "        geo_data=geo_merged,\n",
    "        data=geo_merged,\n",
    "        columns=[\"plz\", \"PopulationPerStation\"],\n",
    "        key_on=\"feature.properties.plz\",\n",
    "        fill_color=\"YlOrRd\",\n",
    "        fill_opacity=0.7,\n",
    "        line_opacity=0.2,\n",
    "        legend_name=\"Population per Charging Station\"\n",
    "    ).add_to(m)\n",
    "    return m"
   ]
  },
  {
   "cell_type": "code",
   "execution_count": 61,
   "id": "a9f4fa7b-d14c-4ba1-8a65-31d8783e457b",
   "metadata": {
    "scrolled": true
   },
   "outputs": [
    {
     "name": "stderr",
     "output_type": "stream",
     "text": [
      "2024-11-29 11:23:11.854 WARNING streamlit.runtime.scriptrunner_utils.script_run_context: Thread 'MainThread': missing ScriptRunContext! This warning can be ignored when running in bare mode.\n",
      "2024-11-29 11:23:12.202 \n",
      "  \u001b[33m\u001b[1mWarning:\u001b[0m to view this Streamlit app on a browser, run it with the following\n",
      "  command:\n",
      "\n",
      "    streamlit run d:\\ase\\.venv\\lib\\site-packages\\ipykernel_launcher.py [ARGUMENTS]\n",
      "2024-11-29 11:23:12.218 Thread 'MainThread': missing ScriptRunContext! This warning can be ignored when running in bare mode.\n",
      "2024-11-29 11:23:12.218 Thread 'MainThread': missing ScriptRunContext! This warning can be ignored when running in bare mode.\n",
      "2024-11-29 11:23:12.225 Thread 'MainThread': missing ScriptRunContext! This warning can be ignored when running in bare mode.\n",
      "2024-11-29 11:23:12.230 Thread 'MainThread': missing ScriptRunContext! This warning can be ignored when running in bare mode.\n",
      "2024-11-29 11:23:12.233 Thread 'MainThread': missing ScriptRunContext! This warning can be ignored when running in bare mode.\n"
     ]
    },
    {
     "ename": "KeyboardInterrupt",
     "evalue": "",
     "output_type": "error",
     "traceback": [
      "\u001b[1;31m---------------------------------------------------------------------------\u001b[0m",
      "\u001b[1;31mKeyboardInterrupt\u001b[0m                         Traceback (most recent call last)",
      "Cell \u001b[1;32mIn[61], line 5\u001b[0m\n\u001b[0;32m      1\u001b[0m st\u001b[38;5;241m.\u001b[39mtitle(\u001b[38;5;124m\"\u001b[39m\u001b[38;5;124mBerlin Electric Charging Station Demand\u001b[39m\u001b[38;5;124m\"\u001b[39m)\n\u001b[0;32m      3\u001b[0m st\u001b[38;5;241m.\u001b[39mwrite(\u001b[38;5;124m\"\u001b[39m\u001b[38;5;124mThis app visualizes demand for electric vehicle charging stations in Berlin.\u001b[39m\u001b[38;5;124m\"\u001b[39m)\n\u001b[1;32m----> 5\u001b[0m map_ \u001b[38;5;241m=\u001b[39m \u001b[43mcreate_map\u001b[49m\u001b[43m(\u001b[49m\u001b[43m)\u001b[49m\n\u001b[0;32m      6\u001b[0m st_folium(map_, width\u001b[38;5;241m=\u001b[39m\u001b[38;5;241m700\u001b[39m, height\u001b[38;5;241m=\u001b[39m\u001b[38;5;241m500\u001b[39m)\n",
      "Cell \u001b[1;32mIn[58], line 3\u001b[0m, in \u001b[0;36mcreate_map\u001b[1;34m()\u001b[0m\n\u001b[0;32m      1\u001b[0m \u001b[38;5;28;01mdef\u001b[39;00m \u001b[38;5;21mcreate_map\u001b[39m():\n\u001b[0;32m      2\u001b[0m     m \u001b[38;5;241m=\u001b[39m folium\u001b[38;5;241m.\u001b[39mMap(location\u001b[38;5;241m=\u001b[39m[\u001b[38;5;241m52.5200\u001b[39m, \u001b[38;5;241m13.4050\u001b[39m], zoom_start\u001b[38;5;241m=\u001b[39m\u001b[38;5;241m11\u001b[39m)\n\u001b[1;32m----> 3\u001b[0m     \u001b[43mfolium\u001b[49m\u001b[38;5;241;43m.\u001b[39;49m\u001b[43mChoropleth\u001b[49m\u001b[43m(\u001b[49m\n\u001b[0;32m      4\u001b[0m \u001b[43m        \u001b[49m\u001b[43mgeo_data\u001b[49m\u001b[38;5;241;43m=\u001b[39;49m\u001b[43mgeo_merged\u001b[49m\u001b[43m,\u001b[49m\n\u001b[0;32m      5\u001b[0m \u001b[43m        \u001b[49m\u001b[43mdata\u001b[49m\u001b[38;5;241;43m=\u001b[39;49m\u001b[43mgeo_merged\u001b[49m\u001b[43m,\u001b[49m\n\u001b[0;32m      6\u001b[0m \u001b[43m        \u001b[49m\u001b[43mcolumns\u001b[49m\u001b[38;5;241;43m=\u001b[39;49m\u001b[43m[\u001b[49m\u001b[38;5;124;43m\"\u001b[39;49m\u001b[38;5;124;43mplz\u001b[39;49m\u001b[38;5;124;43m\"\u001b[39;49m\u001b[43m,\u001b[49m\u001b[43m \u001b[49m\u001b[38;5;124;43m\"\u001b[39;49m\u001b[38;5;124;43mPopulationPerStation\u001b[39;49m\u001b[38;5;124;43m\"\u001b[39;49m\u001b[43m]\u001b[49m\u001b[43m,\u001b[49m\n\u001b[0;32m      7\u001b[0m \u001b[43m        \u001b[49m\u001b[43mkey_on\u001b[49m\u001b[38;5;241;43m=\u001b[39;49m\u001b[38;5;124;43m\"\u001b[39;49m\u001b[38;5;124;43mfeature.properties.plz\u001b[39;49m\u001b[38;5;124;43m\"\u001b[39;49m\u001b[43m,\u001b[49m\n\u001b[0;32m      8\u001b[0m \u001b[43m        \u001b[49m\u001b[43mfill_color\u001b[49m\u001b[38;5;241;43m=\u001b[39;49m\u001b[38;5;124;43m\"\u001b[39;49m\u001b[38;5;124;43mYlOrRd\u001b[39;49m\u001b[38;5;124;43m\"\u001b[39;49m\u001b[43m,\u001b[49m\n\u001b[0;32m      9\u001b[0m \u001b[43m        \u001b[49m\u001b[43mfill_opacity\u001b[49m\u001b[38;5;241;43m=\u001b[39;49m\u001b[38;5;241;43m0.7\u001b[39;49m\u001b[43m,\u001b[49m\n\u001b[0;32m     10\u001b[0m \u001b[43m        \u001b[49m\u001b[43mline_opacity\u001b[49m\u001b[38;5;241;43m=\u001b[39;49m\u001b[38;5;241;43m0.2\u001b[39;49m\u001b[43m,\u001b[49m\n\u001b[0;32m     11\u001b[0m \u001b[43m        \u001b[49m\u001b[43mlegend_name\u001b[49m\u001b[38;5;241;43m=\u001b[39;49m\u001b[38;5;124;43m\"\u001b[39;49m\u001b[38;5;124;43mPopulation per Charging Station\u001b[39;49m\u001b[38;5;124;43m\"\u001b[39;49m\n\u001b[0;32m     12\u001b[0m \u001b[43m    \u001b[49m\u001b[43m)\u001b[49m\u001b[38;5;241m.\u001b[39madd_to(m)\n\u001b[0;32m     13\u001b[0m     \u001b[38;5;28;01mreturn\u001b[39;00m m\n",
      "File \u001b[1;32md:\\ase\\.venv\\lib\\site-packages\\folium\\features.py:1638\u001b[0m, in \u001b[0;36mChoropleth.__init__\u001b[1;34m(self, geo_data, data, columns, key_on, bins, fill_color, nan_fill_color, fill_opacity, nan_fill_opacity, line_color, line_weight, line_opacity, name, legend_name, overlay, control, show, topojson, smooth_factor, highlight, use_jenks, **kwargs)\u001b[0m\n\u001b[0;32m   1631\u001b[0m     \u001b[38;5;28mself\u001b[39m\u001b[38;5;241m.\u001b[39mgeojson \u001b[38;5;241m=\u001b[39m TopoJson(\n\u001b[0;32m   1632\u001b[0m         geo_data,\n\u001b[0;32m   1633\u001b[0m         topojson,\n\u001b[0;32m   1634\u001b[0m         style_function\u001b[38;5;241m=\u001b[39mstyle_function,\n\u001b[0;32m   1635\u001b[0m         smooth_factor\u001b[38;5;241m=\u001b[39msmooth_factor,\n\u001b[0;32m   1636\u001b[0m     )\n\u001b[0;32m   1637\u001b[0m \u001b[38;5;28;01melse\u001b[39;00m:\n\u001b[1;32m-> 1638\u001b[0m     \u001b[38;5;28mself\u001b[39m\u001b[38;5;241m.\u001b[39mgeojson \u001b[38;5;241m=\u001b[39m \u001b[43mGeoJson\u001b[49m\u001b[43m(\u001b[49m\n\u001b[0;32m   1639\u001b[0m \u001b[43m        \u001b[49m\u001b[43mgeo_data\u001b[49m\u001b[43m,\u001b[49m\n\u001b[0;32m   1640\u001b[0m \u001b[43m        \u001b[49m\u001b[43mstyle_function\u001b[49m\u001b[38;5;241;43m=\u001b[39;49m\u001b[43mstyle_function\u001b[49m\u001b[43m,\u001b[49m\n\u001b[0;32m   1641\u001b[0m \u001b[43m        \u001b[49m\u001b[43msmooth_factor\u001b[49m\u001b[38;5;241;43m=\u001b[39;49m\u001b[43msmooth_factor\u001b[49m\u001b[43m,\u001b[49m\n\u001b[0;32m   1642\u001b[0m \u001b[43m        \u001b[49m\u001b[43mhighlight_function\u001b[49m\u001b[38;5;241;43m=\u001b[39;49m\u001b[43mhighlight_function\u001b[49m\u001b[43m \u001b[49m\u001b[38;5;28;43;01mif\u001b[39;49;00m\u001b[43m \u001b[49m\u001b[43mhighlight\u001b[49m\u001b[43m \u001b[49m\u001b[38;5;28;43;01melse\u001b[39;49;00m\u001b[43m \u001b[49m\u001b[38;5;28;43;01mNone\u001b[39;49;00m\u001b[43m,\u001b[49m\n\u001b[0;32m   1643\u001b[0m \u001b[43m    \u001b[49m\u001b[43m)\u001b[49m\n\u001b[0;32m   1645\u001b[0m \u001b[38;5;28mself\u001b[39m\u001b[38;5;241m.\u001b[39madd_child(\u001b[38;5;28mself\u001b[39m\u001b[38;5;241m.\u001b[39mgeojson)\n\u001b[0;32m   1646\u001b[0m \u001b[38;5;28;01mif\u001b[39;00m \u001b[38;5;28mself\u001b[39m\u001b[38;5;241m.\u001b[39mcolor_scale:\n",
      "File \u001b[1;32md:\\ase\\.venv\\lib\\site-packages\\folium\\features.py:697\u001b[0m, in \u001b[0;36mGeoJson.__init__\u001b[1;34m(self, data, style_function, highlight_function, popup_keep_highlighted, name, overlay, control, show, smooth_factor, tooltip, embed, popup, zoom_on_click, marker, **kwargs)\u001b[0m\n\u001b[0;32m    694\u001b[0m \u001b[38;5;28mself\u001b[39m\u001b[38;5;241m.\u001b[39mmarker \u001b[38;5;241m=\u001b[39m marker\n\u001b[0;32m    695\u001b[0m \u001b[38;5;28mself\u001b[39m\u001b[38;5;241m.\u001b[39moptions \u001b[38;5;241m=\u001b[39m parse_options(\u001b[38;5;241m*\u001b[39m\u001b[38;5;241m*\u001b[39mkwargs)\n\u001b[1;32m--> 697\u001b[0m \u001b[38;5;28mself\u001b[39m\u001b[38;5;241m.\u001b[39mdata \u001b[38;5;241m=\u001b[39m \u001b[38;5;28;43mself\u001b[39;49m\u001b[38;5;241;43m.\u001b[39;49m\u001b[43mprocess_data\u001b[49m\u001b[43m(\u001b[49m\u001b[43mdata\u001b[49m\u001b[43m)\u001b[49m\n\u001b[0;32m    699\u001b[0m \u001b[38;5;28;01mif\u001b[39;00m \u001b[38;5;28mself\u001b[39m\u001b[38;5;241m.\u001b[39mstyle \u001b[38;5;129;01mor\u001b[39;00m \u001b[38;5;28mself\u001b[39m\u001b[38;5;241m.\u001b[39mhighlight:\n\u001b[0;32m    700\u001b[0m     \u001b[38;5;28mself\u001b[39m\u001b[38;5;241m.\u001b[39mconvert_to_feature_collection()\n",
      "File \u001b[1;32md:\\ase\\.venv\\lib\\site-packages\\folium\\features.py:740\u001b[0m, in \u001b[0;36mGeoJson.process_data\u001b[1;34m(self, data)\u001b[0m\n\u001b[0;32m    738\u001b[0m     \u001b[38;5;28;01mif\u001b[39;00m \u001b[38;5;28mhasattr\u001b[39m(data, \u001b[38;5;124m\"\u001b[39m\u001b[38;5;124mto_crs\u001b[39m\u001b[38;5;124m\"\u001b[39m):\n\u001b[0;32m    739\u001b[0m         data \u001b[38;5;241m=\u001b[39m data\u001b[38;5;241m.\u001b[39mto_crs(\u001b[38;5;124m\"\u001b[39m\u001b[38;5;124mEPSG:4326\u001b[39m\u001b[38;5;124m\"\u001b[39m)\n\u001b[1;32m--> 740\u001b[0m     \u001b[38;5;28;01mreturn\u001b[39;00m json\u001b[38;5;241m.\u001b[39mloads(json\u001b[38;5;241m.\u001b[39mdumps(\u001b[43mdata\u001b[49m\u001b[38;5;241;43m.\u001b[39;49m\u001b[43m__geo_interface__\u001b[49m))\n\u001b[0;32m    741\u001b[0m \u001b[38;5;28;01melse\u001b[39;00m:\n\u001b[0;32m    742\u001b[0m     \u001b[38;5;28;01mraise\u001b[39;00m \u001b[38;5;167;01mValueError\u001b[39;00m(\n\u001b[0;32m    743\u001b[0m         \u001b[38;5;124m\"\u001b[39m\u001b[38;5;124mCannot render objects with any missing geometries\u001b[39m\u001b[38;5;124m\"\u001b[39m \u001b[38;5;124mf\u001b[39m\u001b[38;5;124m\"\u001b[39m\u001b[38;5;124m: \u001b[39m\u001b[38;5;132;01m{\u001b[39;00mdata\u001b[38;5;132;01m!r}\u001b[39;00m\u001b[38;5;124m\"\u001b[39m\n\u001b[0;32m    744\u001b[0m     )\n",
      "File \u001b[1;32md:\\ase\\.venv\\lib\\site-packages\\geopandas\\geodataframe.py:996\u001b[0m, in \u001b[0;36mGeoDataFrame.__geo_interface__\u001b[1;34m(self)\u001b[0m\n\u001b[0;32m    964\u001b[0m     \u001b[38;5;129m@property\u001b[39m\n\u001b[0;32m    965\u001b[0m     \u001b[38;5;28;01mdef\u001b[39;00m \u001b[38;5;21m__geo_interface__\u001b[39m(\u001b[38;5;28mself\u001b[39m):\n\u001b[0;32m    966\u001b[0m \u001b[38;5;250m        \u001b[39m\u001b[38;5;124;03m\"\"\"Returns a ``GeoDataFrame`` as a python feature collection.\u001b[39;00m\n\u001b[0;32m    967\u001b[0m \n\u001b[0;32m    968\u001b[0m \u001b[38;5;124;03m        Implements the `geo_interface`. The returned python data structure\u001b[39;00m\n\u001b[1;32m   (...)\u001b[0m\n\u001b[0;32m    994\u001b[0m \u001b[38;5;124;03mbox': (2.0, 1.0, 2.0, 1.0)}], 'bbox': (1.0, 1.0, 2.0, 2.0)}\u001b[39;00m\n\u001b[0;32m    995\u001b[0m \u001b[38;5;124;03m        \"\"\"\u001b[39;00m\n\u001b[1;32m--> 996\u001b[0m         \u001b[38;5;28;01mreturn\u001b[39;00m \u001b[38;5;28;43mself\u001b[39;49m\u001b[38;5;241;43m.\u001b[39;49m\u001b[43mto_geo_dict\u001b[49m\u001b[43m(\u001b[49m\u001b[43mna\u001b[49m\u001b[38;5;241;43m=\u001b[39;49m\u001b[38;5;124;43m\"\u001b[39;49m\u001b[38;5;124;43mnull\u001b[39;49m\u001b[38;5;124;43m\"\u001b[39;49m\u001b[43m,\u001b[49m\u001b[43m \u001b[49m\u001b[43mshow_bbox\u001b[49m\u001b[38;5;241;43m=\u001b[39;49m\u001b[38;5;28;43;01mTrue\u001b[39;49;00m\u001b[43m,\u001b[49m\u001b[43m \u001b[49m\u001b[43mdrop_id\u001b[49m\u001b[38;5;241;43m=\u001b[39;49m\u001b[38;5;28;43;01mFalse\u001b[39;49;00m\u001b[43m)\u001b[49m\n",
      "File \u001b[1;32md:\\ase\\.venv\\lib\\site-packages\\geopandas\\geodataframe.py:1154\u001b[0m, in \u001b[0;36mGeoDataFrame.to_geo_dict\u001b[1;34m(self, na, show_bbox, drop_id)\u001b[0m\n\u001b[0;32m   1106\u001b[0m \u001b[38;5;28;01mdef\u001b[39;00m \u001b[38;5;21mto_geo_dict\u001b[39m(\u001b[38;5;28mself\u001b[39m, na\u001b[38;5;241m=\u001b[39m\u001b[38;5;124m\"\u001b[39m\u001b[38;5;124mnull\u001b[39m\u001b[38;5;124m\"\u001b[39m, show_bbox\u001b[38;5;241m=\u001b[39m\u001b[38;5;28;01mFalse\u001b[39;00m, drop_id\u001b[38;5;241m=\u001b[39m\u001b[38;5;28;01mFalse\u001b[39;00m):\n\u001b[0;32m   1107\u001b[0m \u001b[38;5;250m    \u001b[39m\u001b[38;5;124;03m\"\"\"\u001b[39;00m\n\u001b[0;32m   1108\u001b[0m \u001b[38;5;124;03m    Returns a python feature collection representation of the GeoDataFrame\u001b[39;00m\n\u001b[0;32m   1109\u001b[0m \u001b[38;5;124;03m    as a dictionary with a list of features based on the ``__geo_interface__``\u001b[39;00m\n\u001b[1;32m   (...)\u001b[0m\n\u001b[0;32m   1150\u001b[0m \n\u001b[0;32m   1151\u001b[0m \u001b[38;5;124;03m    \"\"\"\u001b[39;00m\n\u001b[0;32m   1152\u001b[0m     geo \u001b[38;5;241m=\u001b[39m {\n\u001b[0;32m   1153\u001b[0m         \u001b[38;5;124m\"\u001b[39m\u001b[38;5;124mtype\u001b[39m\u001b[38;5;124m\"\u001b[39m: \u001b[38;5;124m\"\u001b[39m\u001b[38;5;124mFeatureCollection\u001b[39m\u001b[38;5;124m\"\u001b[39m,\n\u001b[1;32m-> 1154\u001b[0m         \u001b[38;5;124m\"\u001b[39m\u001b[38;5;124mfeatures\u001b[39m\u001b[38;5;124m\"\u001b[39m: \u001b[38;5;28;43mlist\u001b[39;49m\u001b[43m(\u001b[49m\n\u001b[0;32m   1155\u001b[0m \u001b[43m            \u001b[49m\u001b[38;5;28;43mself\u001b[39;49m\u001b[38;5;241;43m.\u001b[39;49m\u001b[43miterfeatures\u001b[49m\u001b[43m(\u001b[49m\u001b[43mna\u001b[49m\u001b[38;5;241;43m=\u001b[39;49m\u001b[43mna\u001b[49m\u001b[43m,\u001b[49m\u001b[43m \u001b[49m\u001b[43mshow_bbox\u001b[49m\u001b[38;5;241;43m=\u001b[39;49m\u001b[43mshow_bbox\u001b[49m\u001b[43m,\u001b[49m\u001b[43m \u001b[49m\u001b[43mdrop_id\u001b[49m\u001b[38;5;241;43m=\u001b[39;49m\u001b[43mdrop_id\u001b[49m\u001b[43m)\u001b[49m\n\u001b[0;32m   1156\u001b[0m \u001b[43m        \u001b[49m\u001b[43m)\u001b[49m,\n\u001b[0;32m   1157\u001b[0m     }\n\u001b[0;32m   1159\u001b[0m     \u001b[38;5;28;01mif\u001b[39;00m show_bbox:\n\u001b[0;32m   1160\u001b[0m         geo[\u001b[38;5;124m\"\u001b[39m\u001b[38;5;124mbbox\u001b[39m\u001b[38;5;124m\"\u001b[39m] \u001b[38;5;241m=\u001b[39m \u001b[38;5;28mtuple\u001b[39m(\u001b[38;5;28mself\u001b[39m\u001b[38;5;241m.\u001b[39mtotal_bounds)\n",
      "File \u001b[1;32md:\\ase\\.venv\\lib\\site-packages\\geopandas\\geodataframe.py:1083\u001b[0m, in \u001b[0;36mGeoDataFrame.iterfeatures\u001b[1;34m(self, na, show_bbox, drop_id)\u001b[0m\n\u001b[0;32m   1081\u001b[0m feature[\u001b[38;5;124m\"\u001b[39m\u001b[38;5;124mtype\u001b[39m\u001b[38;5;124m\"\u001b[39m] \u001b[38;5;241m=\u001b[39m \u001b[38;5;124m\"\u001b[39m\u001b[38;5;124mFeature\u001b[39m\u001b[38;5;124m\"\u001b[39m\n\u001b[0;32m   1082\u001b[0m feature[\u001b[38;5;124m\"\u001b[39m\u001b[38;5;124mproperties\u001b[39m\u001b[38;5;124m\"\u001b[39m] \u001b[38;5;241m=\u001b[39m properties_items\n\u001b[1;32m-> 1083\u001b[0m feature[\u001b[38;5;124m\"\u001b[39m\u001b[38;5;124mgeometry\u001b[39m\u001b[38;5;124m\"\u001b[39m] \u001b[38;5;241m=\u001b[39m \u001b[43mmapping\u001b[49m\u001b[43m(\u001b[49m\u001b[43mgeom\u001b[49m\u001b[43m)\u001b[49m \u001b[38;5;28;01mif\u001b[39;00m geom \u001b[38;5;28;01melse\u001b[39;00m \u001b[38;5;28;01mNone\u001b[39;00m\n\u001b[0;32m   1085\u001b[0m \u001b[38;5;28;01mif\u001b[39;00m show_bbox:\n\u001b[0;32m   1086\u001b[0m     feature[\u001b[38;5;124m\"\u001b[39m\u001b[38;5;124mbbox\u001b[39m\u001b[38;5;124m\"\u001b[39m] \u001b[38;5;241m=\u001b[39m geom\u001b[38;5;241m.\u001b[39mbounds \u001b[38;5;28;01mif\u001b[39;00m geom \u001b[38;5;28;01melse\u001b[39;00m \u001b[38;5;28;01mNone\u001b[39;00m\n",
      "File \u001b[1;32md:\\ase\\.venv\\lib\\site-packages\\shapely\\geometry\\geo.py:135\u001b[0m, in \u001b[0;36mmapping\u001b[1;34m(ob)\u001b[0m\n\u001b[0;32m    115\u001b[0m \u001b[38;5;28;01mdef\u001b[39;00m \u001b[38;5;21mmapping\u001b[39m(ob):\n\u001b[0;32m    116\u001b[0m \u001b[38;5;250m    \u001b[39m\u001b[38;5;124;03m\"\"\"\u001b[39;00m\n\u001b[0;32m    117\u001b[0m \u001b[38;5;124;03m    Returns a GeoJSON-like mapping from a Geometry or any\u001b[39;00m\n\u001b[0;32m    118\u001b[0m \u001b[38;5;124;03m    object which implements __geo_interface__\u001b[39;00m\n\u001b[1;32m   (...)\u001b[0m\n\u001b[0;32m    133\u001b[0m \u001b[38;5;124;03m    {'type': 'Point', 'coordinates': (0.0, 0.0)}\u001b[39;00m\n\u001b[0;32m    134\u001b[0m \u001b[38;5;124;03m    \"\"\"\u001b[39;00m\n\u001b[1;32m--> 135\u001b[0m     \u001b[38;5;28;01mreturn\u001b[39;00m \u001b[43mob\u001b[49m\u001b[38;5;241;43m.\u001b[39;49m\u001b[43m__geo_interface__\u001b[49m\n",
      "File \u001b[1;32md:\\ase\\.venv\\lib\\site-packages\\shapely\\geometry\\polygon.py:291\u001b[0m, in \u001b[0;36mPolygon.__geo_interface__\u001b[1;34m(self)\u001b[0m\n\u001b[0;32m    289\u001b[0m \u001b[38;5;129m@property\u001b[39m\n\u001b[0;32m    290\u001b[0m \u001b[38;5;28;01mdef\u001b[39;00m \u001b[38;5;21m__geo_interface__\u001b[39m(\u001b[38;5;28mself\u001b[39m):\n\u001b[1;32m--> 291\u001b[0m     \u001b[38;5;28;01mif\u001b[39;00m \u001b[38;5;28;43mself\u001b[39;49m\u001b[38;5;241;43m.\u001b[39;49m\u001b[43mexterior\u001b[49m\u001b[43m \u001b[49m\u001b[38;5;241;43m==\u001b[39;49m\u001b[43m \u001b[49m\u001b[43mLinearRing\u001b[49m\u001b[43m(\u001b[49m\u001b[43m)\u001b[49m:\n\u001b[0;32m    292\u001b[0m         coords \u001b[38;5;241m=\u001b[39m []\n\u001b[0;32m    293\u001b[0m     \u001b[38;5;28;01melse\u001b[39;00m:\n",
      "File \u001b[1;32md:\\ase\\.venv\\lib\\site-packages\\shapely\\geometry\\base.py:206\u001b[0m, in \u001b[0;36mBaseGeometry.__eq__\u001b[1;34m(self, other)\u001b[0m\n\u001b[0;32m    202\u001b[0m     \u001b[38;5;28;01mreturn\u001b[39;00m \u001b[38;5;28mNotImplemented\u001b[39m\n\u001b[0;32m    203\u001b[0m \u001b[38;5;66;03m# equal_nan=False is the default, but not yet available for older numpy\u001b[39;00m\n\u001b[0;32m    204\u001b[0m \u001b[38;5;66;03m# TODO updated once we require numpy >= 1.19\u001b[39;00m\n\u001b[0;32m    205\u001b[0m \u001b[38;5;28;01mreturn\u001b[39;00m \u001b[38;5;28mtype\u001b[39m(other) \u001b[38;5;241m==\u001b[39m \u001b[38;5;28mtype\u001b[39m(\u001b[38;5;28mself\u001b[39m) \u001b[38;5;129;01mand\u001b[39;00m np\u001b[38;5;241m.\u001b[39marray_equal(\n\u001b[1;32m--> 206\u001b[0m     \u001b[38;5;28;43mself\u001b[39;49m\u001b[38;5;241;43m.\u001b[39;49m\u001b[43mcoords\u001b[49m, other\u001b[38;5;241m.\u001b[39mcoords  \u001b[38;5;66;03m# , equal_nan=False\u001b[39;00m\n\u001b[0;32m    207\u001b[0m )\n",
      "File \u001b[1;32md:\\ase\\.venv\\lib\\site-packages\\shapely\\geometry\\base.py:223\u001b[0m, in \u001b[0;36mBaseGeometry.coords\u001b[1;34m(self)\u001b[0m\n\u001b[0;32m    220\u001b[0m \u001b[38;5;129m@property\u001b[39m\n\u001b[0;32m    221\u001b[0m \u001b[38;5;28;01mdef\u001b[39;00m \u001b[38;5;21mcoords\u001b[39m(\u001b[38;5;28mself\u001b[39m):\n\u001b[0;32m    222\u001b[0m \u001b[38;5;250m    \u001b[39m\u001b[38;5;124;03m\"\"\"Access to geometry's coordinates (CoordinateSequence)\"\"\"\u001b[39;00m\n\u001b[1;32m--> 223\u001b[0m     coords_array \u001b[38;5;241m=\u001b[39m shapely\u001b[38;5;241m.\u001b[39mget_coordinates(\u001b[38;5;28mself\u001b[39m, include_z\u001b[38;5;241m=\u001b[39m\u001b[38;5;28;43mself\u001b[39;49m\u001b[38;5;241;43m.\u001b[39;49m\u001b[43mhas_z\u001b[49m)\n\u001b[0;32m    224\u001b[0m     \u001b[38;5;28;01mreturn\u001b[39;00m CoordinateSequence(coords_array)\n",
      "File \u001b[1;32md:\\ase\\.venv\\lib\\site-packages\\shapely\\geometry\\base.py:624\u001b[0m, in \u001b[0;36mBaseGeometry.has_z\u001b[1;34m(self)\u001b[0m\n\u001b[0;32m    620\u001b[0m \u001b[38;5;129m@property\u001b[39m\n\u001b[0;32m    621\u001b[0m \u001b[38;5;28;01mdef\u001b[39;00m \u001b[38;5;21mhas_z\u001b[39m(\u001b[38;5;28mself\u001b[39m):\n\u001b[0;32m    622\u001b[0m \u001b[38;5;250m    \u001b[39m\u001b[38;5;124;03m\"\"\"True if the geometry's coordinate sequence(s) have z values (are\u001b[39;00m\n\u001b[0;32m    623\u001b[0m \u001b[38;5;124;03m    3-dimensional)\"\"\"\u001b[39;00m\n\u001b[1;32m--> 624\u001b[0m     \u001b[38;5;28;01mreturn\u001b[39;00m \u001b[38;5;28mbool\u001b[39m(\u001b[43mshapely\u001b[49m\u001b[38;5;241;43m.\u001b[39;49m\u001b[43mhas_z\u001b[49m\u001b[43m(\u001b[49m\u001b[38;5;28;43mself\u001b[39;49m\u001b[43m)\u001b[49m)\n",
      "File \u001b[1;32md:\\ase\\.venv\\lib\\site-packages\\shapely\\decorators.py:77\u001b[0m, in \u001b[0;36mmultithreading_enabled.<locals>.wrapped\u001b[1;34m(*args, **kwargs)\u001b[0m\n\u001b[0;32m     75\u001b[0m     \u001b[38;5;28;01mfor\u001b[39;00m arr \u001b[38;5;129;01min\u001b[39;00m array_args:\n\u001b[0;32m     76\u001b[0m         arr\u001b[38;5;241m.\u001b[39mflags\u001b[38;5;241m.\u001b[39mwriteable \u001b[38;5;241m=\u001b[39m \u001b[38;5;28;01mFalse\u001b[39;00m\n\u001b[1;32m---> 77\u001b[0m     \u001b[38;5;28;01mreturn\u001b[39;00m func(\u001b[38;5;241m*\u001b[39margs, \u001b[38;5;241m*\u001b[39m\u001b[38;5;241m*\u001b[39mkwargs)\n\u001b[0;32m     78\u001b[0m \u001b[38;5;28;01mfinally\u001b[39;00m:\n\u001b[0;32m     79\u001b[0m     \u001b[38;5;28;01mfor\u001b[39;00m arr, old_flag \u001b[38;5;129;01min\u001b[39;00m \u001b[38;5;28mzip\u001b[39m(array_args, old_flags):\n",
      "File \u001b[1;32md:\\ase\\.venv\\lib\\site-packages\\shapely\\predicates.py:68\u001b[0m, in \u001b[0;36mhas_z\u001b[1;34m(geometry, **kwargs)\u001b[0m\n\u001b[0;32m     41\u001b[0m \u001b[38;5;129m@multithreading_enabled\u001b[39m\n\u001b[0;32m     42\u001b[0m \u001b[38;5;28;01mdef\u001b[39;00m \u001b[38;5;21mhas_z\u001b[39m(geometry, \u001b[38;5;241m*\u001b[39m\u001b[38;5;241m*\u001b[39mkwargs):\n\u001b[0;32m     43\u001b[0m \u001b[38;5;250m    \u001b[39m\u001b[38;5;124;03m\"\"\"Returns True if a geometry has a Z coordinate.\u001b[39;00m\n\u001b[0;32m     44\u001b[0m \n\u001b[0;32m     45\u001b[0m \u001b[38;5;124;03m    Note that this function returns False if the (first) Z coordinate equals NaN or\u001b[39;00m\n\u001b[1;32m   (...)\u001b[0m\n\u001b[0;32m     66\u001b[0m \u001b[38;5;124;03m    False\u001b[39;00m\n\u001b[0;32m     67\u001b[0m \u001b[38;5;124;03m    \"\"\"\u001b[39;00m\n\u001b[1;32m---> 68\u001b[0m     \u001b[38;5;28;01mreturn\u001b[39;00m lib\u001b[38;5;241m.\u001b[39mhas_z(geometry, \u001b[38;5;241m*\u001b[39m\u001b[38;5;241m*\u001b[39mkwargs)\n",
      "\u001b[1;31mKeyboardInterrupt\u001b[0m: "
     ]
    }
   ],
   "source": [
    "st.title(\"Berlin Electric Charging Station Demand\")\n",
    "\n",
    "st.write(\"This app visualizes demand for electric vehicle charging stations in Berlin.\")\n",
    "\n",
    "map_ = create_map()\n",
    "st_folium(map_, width=700, height=500)"
   ]
  },
  {
   "cell_type": "code",
   "execution_count": null,
   "id": "3377d0a5-147b-4d95-9a6f-3f9d8ae370ea",
   "metadata": {},
   "outputs": [],
   "source": [
    "streamlit run main.py"
   ]
  },
  {
   "cell_type": "code",
   "execution_count": null,
   "id": "1b4bc391-79b7-4eb6-bae8-323929862878",
   "metadata": {},
   "outputs": [],
   "source": []
  }
 ],
 "metadata": {
  "kernelspec": {
   "display_name": "Python 3 (ipykernel)",
   "language": "python",
   "name": "python3"
  },
  "language_info": {
   "codemirror_mode": {
    "name": "ipython",
    "version": 3
   },
   "file_extension": ".py",
   "mimetype": "text/x-python",
   "name": "python",
   "nbconvert_exporter": "python",
   "pygments_lexer": "ipython3",
   "version": "3.9.0"
  }
 },
 "nbformat": 4,
 "nbformat_minor": 5
}
