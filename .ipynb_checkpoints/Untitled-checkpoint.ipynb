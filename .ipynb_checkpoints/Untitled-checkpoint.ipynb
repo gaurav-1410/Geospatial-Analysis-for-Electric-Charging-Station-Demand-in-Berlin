{
 "cells": [
  {
   "cell_type": "code",
   "execution_count": 1,
   "id": "8940256d-039e-4d6d-a638-30c809f84c19",
   "metadata": {},
   "outputs": [],
   "source": [
    "import pandas as pd"
   ]
  },
  {
   "cell_type": "code",
   "execution_count": 2,
   "id": "a7ec9a05-723d-4fb8-b689-5b94ee321b9f",
   "metadata": {},
   "outputs": [],
   "source": [
    "# Load population data\n",
    "population_data = pd.read_csv(\"plz_einwohner.csv\")\n",
    "\n",
    "# Load charging stations data\n",
    "charging_stations_data = pd.read_excel(\"Ladesaeulenregister_SEP.xlsx\")\n",
    "\n",
    "# Check the data structure\n",
    "# print(population_data.head())\n",
    "# print(charging_stations_data.head())"
   ]
  },
  {
   "cell_type": "code",
   "execution_count": 3,
   "id": "fae16c4e-9bf8-432c-b7f9-7efe6381401f",
   "metadata": {},
   "outputs": [
    {
     "data": {
      "text/html": [
       "<div>\n",
       "<style scoped>\n",
       "    .dataframe tbody tr th:only-of-type {\n",
       "        vertical-align: middle;\n",
       "    }\n",
       "\n",
       "    .dataframe tbody tr th {\n",
       "        vertical-align: top;\n",
       "    }\n",
       "\n",
       "    .dataframe thead th {\n",
       "        text-align: right;\n",
       "    }\n",
       "</style>\n",
       "<table border=\"1\" class=\"dataframe\">\n",
       "  <thead>\n",
       "    <tr style=\"text-align: right;\">\n",
       "      <th></th>\n",
       "      <th>plz</th>\n",
       "      <th>note</th>\n",
       "      <th>einwohner</th>\n",
       "      <th>qkm</th>\n",
       "      <th>lat</th>\n",
       "      <th>lon</th>\n",
       "    </tr>\n",
       "  </thead>\n",
       "  <tbody>\n",
       "    <tr>\n",
       "      <th>0</th>\n",
       "      <td>1067</td>\n",
       "      <td>01067 Dresden</td>\n",
       "      <td>11957</td>\n",
       "      <td>6.866839</td>\n",
       "      <td>51.06019</td>\n",
       "      <td>13.71117</td>\n",
       "    </tr>\n",
       "    <tr>\n",
       "      <th>1</th>\n",
       "      <td>1069</td>\n",
       "      <td>01069 Dresden</td>\n",
       "      <td>25483</td>\n",
       "      <td>5.339213</td>\n",
       "      <td>51.03964</td>\n",
       "      <td>13.73030</td>\n",
       "    </tr>\n",
       "    <tr>\n",
       "      <th>2</th>\n",
       "      <td>1097</td>\n",
       "      <td>01097 Dresden</td>\n",
       "      <td>14821</td>\n",
       "      <td>3.298022</td>\n",
       "      <td>51.06945</td>\n",
       "      <td>13.73781</td>\n",
       "    </tr>\n",
       "    <tr>\n",
       "      <th>3</th>\n",
       "      <td>1099</td>\n",
       "      <td>01099 Dresden</td>\n",
       "      <td>28018</td>\n",
       "      <td>58.505818</td>\n",
       "      <td>51.09272</td>\n",
       "      <td>13.82842</td>\n",
       "    </tr>\n",
       "    <tr>\n",
       "      <th>4</th>\n",
       "      <td>1108</td>\n",
       "      <td>01108 Dresden</td>\n",
       "      <td>5876</td>\n",
       "      <td>16.447222</td>\n",
       "      <td>51.15180</td>\n",
       "      <td>13.79227</td>\n",
       "    </tr>\n",
       "  </tbody>\n",
       "</table>\n",
       "</div>"
      ],
      "text/plain": [
       "    plz           note  einwohner        qkm       lat       lon\n",
       "0  1067  01067 Dresden      11957   6.866839  51.06019  13.71117\n",
       "1  1069  01069 Dresden      25483   5.339213  51.03964  13.73030\n",
       "2  1097  01097 Dresden      14821   3.298022  51.06945  13.73781\n",
       "3  1099  01099 Dresden      28018  58.505818  51.09272  13.82842\n",
       "4  1108  01108 Dresden       5876  16.447222  51.15180  13.79227"
      ]
     },
     "execution_count": 3,
     "metadata": {},
     "output_type": "execute_result"
    }
   ],
   "source": [
    "population_data.head()"
   ]
  },
  {
   "cell_type": "code",
   "execution_count": 4,
   "id": "82b0f36d-7e52-4614-a5ae-6fd0485c23b9",
   "metadata": {},
   "outputs": [
    {
     "name": "stdout",
     "output_type": "stream",
     "text": [
      "Index(['plz', 'note', 'einwohner', 'qkm', 'lat', 'lon'], dtype='object')\n"
     ]
    }
   ],
   "source": [
    "print(population_data.columns)"
   ]
  },
  {
   "cell_type": "code",
   "execution_count": 5,
   "id": "9897e8c0-5c81-4a52-9dbb-6aff6bd28658",
   "metadata": {},
   "outputs": [],
   "source": [
    "population_data.rename(columns={\"plz\": \"PLZ\", \"einwohner\": \"Population\"}, inplace=True)"
   ]
  },
  {
   "cell_type": "code",
   "execution_count": 6,
   "id": "7b15355f-bc85-4b78-9c36-562e20e221a9",
   "metadata": {},
   "outputs": [
    {
     "data": {
      "text/html": [
       "<div>\n",
       "<style scoped>\n",
       "    .dataframe tbody tr th:only-of-type {\n",
       "        vertical-align: middle;\n",
       "    }\n",
       "\n",
       "    .dataframe tbody tr th {\n",
       "        vertical-align: top;\n",
       "    }\n",
       "\n",
       "    .dataframe thead th {\n",
       "        text-align: right;\n",
       "    }\n",
       "</style>\n",
       "<table border=\"1\" class=\"dataframe\">\n",
       "  <thead>\n",
       "    <tr style=\"text-align: right;\">\n",
       "      <th></th>\n",
       "      <th>PLZ</th>\n",
       "      <th>note</th>\n",
       "      <th>Population</th>\n",
       "      <th>qkm</th>\n",
       "      <th>lat</th>\n",
       "      <th>lon</th>\n",
       "    </tr>\n",
       "  </thead>\n",
       "  <tbody>\n",
       "    <tr>\n",
       "      <th>0</th>\n",
       "      <td>1067</td>\n",
       "      <td>01067 Dresden</td>\n",
       "      <td>11957</td>\n",
       "      <td>6.866839</td>\n",
       "      <td>51.06019</td>\n",
       "      <td>13.71117</td>\n",
       "    </tr>\n",
       "    <tr>\n",
       "      <th>1</th>\n",
       "      <td>1069</td>\n",
       "      <td>01069 Dresden</td>\n",
       "      <td>25483</td>\n",
       "      <td>5.339213</td>\n",
       "      <td>51.03964</td>\n",
       "      <td>13.73030</td>\n",
       "    </tr>\n",
       "    <tr>\n",
       "      <th>2</th>\n",
       "      <td>1097</td>\n",
       "      <td>01097 Dresden</td>\n",
       "      <td>14821</td>\n",
       "      <td>3.298022</td>\n",
       "      <td>51.06945</td>\n",
       "      <td>13.73781</td>\n",
       "    </tr>\n",
       "  </tbody>\n",
       "</table>\n",
       "</div>"
      ],
      "text/plain": [
       "    PLZ           note  Population       qkm       lat       lon\n",
       "0  1067  01067 Dresden       11957  6.866839  51.06019  13.71117\n",
       "1  1069  01069 Dresden       25483  5.339213  51.03964  13.73030\n",
       "2  1097  01097 Dresden       14821  3.298022  51.06945  13.73781"
      ]
     },
     "execution_count": 6,
     "metadata": {},
     "output_type": "execute_result"
    }
   ],
   "source": [
    "population_data.head(3)"
   ]
  },
  {
   "cell_type": "code",
   "execution_count": 7,
   "id": "5fd8329b-001c-4322-9016-a6438887ba28",
   "metadata": {},
   "outputs": [
    {
     "data": {
      "text/html": [
       "<div>\n",
       "<style scoped>\n",
       "    .dataframe tbody tr th:only-of-type {\n",
       "        vertical-align: middle;\n",
       "    }\n",
       "\n",
       "    .dataframe tbody tr th {\n",
       "        vertical-align: top;\n",
       "    }\n",
       "\n",
       "    .dataframe thead th {\n",
       "        text-align: right;\n",
       "    }\n",
       "</style>\n",
       "<table border=\"1\" class=\"dataframe\">\n",
       "  <thead>\n",
       "    <tr style=\"text-align: right;\">\n",
       "      <th></th>\n",
       "      <th>Betreiber</th>\n",
       "      <th>Anzeigename (Karte)</th>\n",
       "      <th>Straße</th>\n",
       "      <th>Hausnummer</th>\n",
       "      <th>Adresszusatz</th>\n",
       "      <th>Postleitzahl</th>\n",
       "      <th>Ort</th>\n",
       "      <th>Kreis/kreisfreie Stadt</th>\n",
       "      <th>Bundesland</th>\n",
       "      <th>Breitengrad</th>\n",
       "      <th>...</th>\n",
       "      <th>Public Key3</th>\n",
       "      <th>Steckertypen4</th>\n",
       "      <th>P4 [kW]</th>\n",
       "      <th>Public Key4</th>\n",
       "      <th>Steckertypen5</th>\n",
       "      <th>P5 [kW]</th>\n",
       "      <th>Public Key5</th>\n",
       "      <th>Steckertypen6</th>\n",
       "      <th>P6 [kW]</th>\n",
       "      <th>Public Key6</th>\n",
       "    </tr>\n",
       "  </thead>\n",
       "  <tbody>\n",
       "    <tr>\n",
       "      <th>0</th>\n",
       "      <td>Albwerk GmbH &amp; Co. KG</td>\n",
       "      <td>Albwerk GmbH &amp; Co. KG</td>\n",
       "      <td>Ennabeurer Weg</td>\n",
       "      <td>0</td>\n",
       "      <td>NaN</td>\n",
       "      <td>72535</td>\n",
       "      <td>Heroldstatt</td>\n",
       "      <td>Landkreis Alb-Donau-Kreis</td>\n",
       "      <td>Baden-Württemberg</td>\n",
       "      <td>48,442398</td>\n",
       "      <td>...</td>\n",
       "      <td>NaN</td>\n",
       "      <td>NaN</td>\n",
       "      <td>NaN</td>\n",
       "      <td>NaN</td>\n",
       "      <td>NaN</td>\n",
       "      <td>NaN</td>\n",
       "      <td>NaN</td>\n",
       "      <td>NaN</td>\n",
       "      <td>NaN</td>\n",
       "      <td>NaN</td>\n",
       "    </tr>\n",
       "    <tr>\n",
       "      <th>1</th>\n",
       "      <td>smopi® - Multi Chargepoint Solution GmbH</td>\n",
       "      <td>smopi</td>\n",
       "      <td>Albstraße</td>\n",
       "      <td>15</td>\n",
       "      <td>NaN</td>\n",
       "      <td>72535</td>\n",
       "      <td>Heroldstatt</td>\n",
       "      <td>Landkreis Alb-Donau-Kreis</td>\n",
       "      <td>Baden-Württemberg</td>\n",
       "      <td>48,449424</td>\n",
       "      <td>...</td>\n",
       "      <td>NaN</td>\n",
       "      <td>AC Typ 2 Steckdose</td>\n",
       "      <td>22.0</td>\n",
       "      <td>NaN</td>\n",
       "      <td>NaN</td>\n",
       "      <td>NaN</td>\n",
       "      <td>NaN</td>\n",
       "      <td>NaN</td>\n",
       "      <td>NaN</td>\n",
       "      <td>NaN</td>\n",
       "    </tr>\n",
       "    <tr>\n",
       "      <th>2</th>\n",
       "      <td>smopi® - Multi Chargepoint Solution GmbH</td>\n",
       "      <td>smopi</td>\n",
       "      <td>Albstraße</td>\n",
       "      <td>15</td>\n",
       "      <td>NaN</td>\n",
       "      <td>72535</td>\n",
       "      <td>Heroldstatt</td>\n",
       "      <td>Landkreis Alb-Donau-Kreis</td>\n",
       "      <td>Baden-Württemberg</td>\n",
       "      <td>48,449424</td>\n",
       "      <td>...</td>\n",
       "      <td>NaN</td>\n",
       "      <td>AC Typ 2 Steckdose</td>\n",
       "      <td>22.0</td>\n",
       "      <td>NaN</td>\n",
       "      <td>NaN</td>\n",
       "      <td>NaN</td>\n",
       "      <td>NaN</td>\n",
       "      <td>NaN</td>\n",
       "      <td>NaN</td>\n",
       "      <td>NaN</td>\n",
       "    </tr>\n",
       "    <tr>\n",
       "      <th>3</th>\n",
       "      <td>smopi® - Multi Chargepoint Solution GmbH</td>\n",
       "      <td>smopi</td>\n",
       "      <td>Albstraße</td>\n",
       "      <td>15</td>\n",
       "      <td>NaN</td>\n",
       "      <td>72535</td>\n",
       "      <td>Heroldstatt</td>\n",
       "      <td>Landkreis Alb-Donau-Kreis</td>\n",
       "      <td>Baden-Württemberg</td>\n",
       "      <td>48,449424</td>\n",
       "      <td>...</td>\n",
       "      <td>NaN</td>\n",
       "      <td>NaN</td>\n",
       "      <td>NaN</td>\n",
       "      <td>NaN</td>\n",
       "      <td>NaN</td>\n",
       "      <td>NaN</td>\n",
       "      <td>NaN</td>\n",
       "      <td>NaN</td>\n",
       "      <td>NaN</td>\n",
       "      <td>NaN</td>\n",
       "    </tr>\n",
       "    <tr>\n",
       "      <th>4</th>\n",
       "      <td>Albwerk GmbH &amp; Co. KG</td>\n",
       "      <td>Albwerk GmbH &amp; Co. KG</td>\n",
       "      <td>Parkplatz Campingplatz</td>\n",
       "      <td>0</td>\n",
       "      <td>NaN</td>\n",
       "      <td>72589</td>\n",
       "      <td>Westerheim</td>\n",
       "      <td>Landkreis Alb-Donau-Kreis</td>\n",
       "      <td>Baden-Württemberg</td>\n",
       "      <td>48,5105</td>\n",
       "      <td>...</td>\n",
       "      <td>NaN</td>\n",
       "      <td>NaN</td>\n",
       "      <td>NaN</td>\n",
       "      <td>NaN</td>\n",
       "      <td>NaN</td>\n",
       "      <td>NaN</td>\n",
       "      <td>NaN</td>\n",
       "      <td>NaN</td>\n",
       "      <td>NaN</td>\n",
       "      <td>NaN</td>\n",
       "    </tr>\n",
       "  </tbody>\n",
       "</table>\n",
       "<p>5 rows × 33 columns</p>\n",
       "</div>"
      ],
      "text/plain": [
       "                                  Betreiber    Anzeigename (Karte)  \\\n",
       "0                     Albwerk GmbH & Co. KG  Albwerk GmbH & Co. KG   \n",
       "1  smopi® - Multi Chargepoint Solution GmbH                  smopi   \n",
       "2  smopi® - Multi Chargepoint Solution GmbH                  smopi   \n",
       "3  smopi® - Multi Chargepoint Solution GmbH                  smopi   \n",
       "4                     Albwerk GmbH & Co. KG  Albwerk GmbH & Co. KG   \n",
       "\n",
       "                   Straße Hausnummer Adresszusatz  Postleitzahl          Ort  \\\n",
       "0          Ennabeurer Weg          0          NaN         72535  Heroldstatt   \n",
       "1               Albstraße         15          NaN         72535  Heroldstatt   \n",
       "2               Albstraße         15          NaN         72535  Heroldstatt   \n",
       "3               Albstraße         15          NaN         72535  Heroldstatt   \n",
       "4  Parkplatz Campingplatz          0          NaN         72589   Westerheim   \n",
       "\n",
       "      Kreis/kreisfreie Stadt         Bundesland Breitengrad  ... Public Key3  \\\n",
       "0  Landkreis Alb-Donau-Kreis  Baden-Württemberg   48,442398  ...         NaN   \n",
       "1  Landkreis Alb-Donau-Kreis  Baden-Württemberg   48,449424  ...         NaN   \n",
       "2  Landkreis Alb-Donau-Kreis  Baden-Württemberg   48,449424  ...         NaN   \n",
       "3  Landkreis Alb-Donau-Kreis  Baden-Württemberg   48,449424  ...         NaN   \n",
       "4  Landkreis Alb-Donau-Kreis  Baden-Württemberg     48,5105  ...         NaN   \n",
       "\n",
       "        Steckertypen4  P4 [kW] Public Key4  Steckertypen5 P5 [kW]  \\\n",
       "0                 NaN      NaN         NaN            NaN     NaN   \n",
       "1  AC Typ 2 Steckdose     22.0         NaN            NaN     NaN   \n",
       "2  AC Typ 2 Steckdose     22.0         NaN            NaN     NaN   \n",
       "3                 NaN      NaN         NaN            NaN     NaN   \n",
       "4                 NaN      NaN         NaN            NaN     NaN   \n",
       "\n",
       "   Public Key5 Steckertypen6 P6 [kW]  Public Key6  \n",
       "0          NaN           NaN     NaN          NaN  \n",
       "1          NaN           NaN     NaN          NaN  \n",
       "2          NaN           NaN     NaN          NaN  \n",
       "3          NaN           NaN     NaN          NaN  \n",
       "4          NaN           NaN     NaN          NaN  \n",
       "\n",
       "[5 rows x 33 columns]"
      ]
     },
     "execution_count": 7,
     "metadata": {},
     "output_type": "execute_result"
    }
   ],
   "source": [
    "charging_stations_data.head()"
   ]
  },
  {
   "cell_type": "code",
   "execution_count": 8,
   "id": "b49b6c66-25ba-460b-ba33-7603e88fa03e",
   "metadata": {},
   "outputs": [],
   "source": [
    "df = charging_stations_data.loc[:,['Postleitzahl', 'Bundesland', 'Breitengrad', 'Längengrad', 'Nennleistung Ladeeinrichtung [kW]']]"
   ]
  },
  {
   "cell_type": "code",
   "execution_count": 9,
   "id": "8b981df5-d4f6-4b0d-b8b2-8b9970a34964",
   "metadata": {},
   "outputs": [
    {
     "data": {
      "text/html": [
       "<div>\n",
       "<style scoped>\n",
       "    .dataframe tbody tr th:only-of-type {\n",
       "        vertical-align: middle;\n",
       "    }\n",
       "\n",
       "    .dataframe tbody tr th {\n",
       "        vertical-align: top;\n",
       "    }\n",
       "\n",
       "    .dataframe thead th {\n",
       "        text-align: right;\n",
       "    }\n",
       "</style>\n",
       "<table border=\"1\" class=\"dataframe\">\n",
       "  <thead>\n",
       "    <tr style=\"text-align: right;\">\n",
       "      <th></th>\n",
       "      <th>Postleitzahl</th>\n",
       "      <th>Bundesland</th>\n",
       "      <th>Breitengrad</th>\n",
       "      <th>Längengrad</th>\n",
       "      <th>Nennleistung Ladeeinrichtung [kW]</th>\n",
       "    </tr>\n",
       "  </thead>\n",
       "  <tbody>\n",
       "    <tr>\n",
       "      <th>0</th>\n",
       "      <td>72535</td>\n",
       "      <td>Baden-Württemberg</td>\n",
       "      <td>48,442398</td>\n",
       "      <td>9,659075</td>\n",
       "      <td>22.0</td>\n",
       "    </tr>\n",
       "    <tr>\n",
       "      <th>1</th>\n",
       "      <td>72535</td>\n",
       "      <td>Baden-Württemberg</td>\n",
       "      <td>48,449424</td>\n",
       "      <td>9,672201</td>\n",
       "      <td>22.0</td>\n",
       "    </tr>\n",
       "    <tr>\n",
       "      <th>2</th>\n",
       "      <td>72535</td>\n",
       "      <td>Baden-Württemberg</td>\n",
       "      <td>48,449424</td>\n",
       "      <td>9,672201</td>\n",
       "      <td>22.0</td>\n",
       "    </tr>\n",
       "  </tbody>\n",
       "</table>\n",
       "</div>"
      ],
      "text/plain": [
       "   Postleitzahl         Bundesland Breitengrad Längengrad  \\\n",
       "0         72535  Baden-Württemberg   48,442398   9,659075   \n",
       "1         72535  Baden-Württemberg   48,449424   9,672201   \n",
       "2         72535  Baden-Württemberg   48,449424   9,672201   \n",
       "\n",
       "   Nennleistung Ladeeinrichtung [kW]  \n",
       "0                               22.0  \n",
       "1                               22.0  \n",
       "2                               22.0  "
      ]
     },
     "execution_count": 9,
     "metadata": {},
     "output_type": "execute_result"
    }
   ],
   "source": [
    "df.head(3)"
   ]
  },
  {
   "cell_type": "code",
   "execution_count": 10,
   "id": "c29e837c-af44-470a-a1c3-29118e1ceb47",
   "metadata": {},
   "outputs": [],
   "source": [
    "df.rename(columns  = {\"Nennleistung Ladeeinrichtung [kW]\":\"KW\", \"Postleitzahl\": \"PLZ\"}, inplace = True)"
   ]
  },
  {
   "cell_type": "code",
   "execution_count": 11,
   "id": "96d6b828-b0c3-4d0f-b846-7e7b63c20347",
   "metadata": {},
   "outputs": [
    {
     "data": {
      "text/html": [
       "<div>\n",
       "<style scoped>\n",
       "    .dataframe tbody tr th:only-of-type {\n",
       "        vertical-align: middle;\n",
       "    }\n",
       "\n",
       "    .dataframe tbody tr th {\n",
       "        vertical-align: top;\n",
       "    }\n",
       "\n",
       "    .dataframe thead th {\n",
       "        text-align: right;\n",
       "    }\n",
       "</style>\n",
       "<table border=\"1\" class=\"dataframe\">\n",
       "  <thead>\n",
       "    <tr style=\"text-align: right;\">\n",
       "      <th></th>\n",
       "      <th>PLZ</th>\n",
       "      <th>Bundesland</th>\n",
       "      <th>Breitengrad</th>\n",
       "      <th>Längengrad</th>\n",
       "      <th>KW</th>\n",
       "    </tr>\n",
       "  </thead>\n",
       "  <tbody>\n",
       "    <tr>\n",
       "      <th>0</th>\n",
       "      <td>72535</td>\n",
       "      <td>Baden-Württemberg</td>\n",
       "      <td>48,442398</td>\n",
       "      <td>9,659075</td>\n",
       "      <td>22.0</td>\n",
       "    </tr>\n",
       "    <tr>\n",
       "      <th>1</th>\n",
       "      <td>72535</td>\n",
       "      <td>Baden-Württemberg</td>\n",
       "      <td>48,449424</td>\n",
       "      <td>9,672201</td>\n",
       "      <td>22.0</td>\n",
       "    </tr>\n",
       "  </tbody>\n",
       "</table>\n",
       "</div>"
      ],
      "text/plain": [
       "     PLZ         Bundesland Breitengrad Längengrad    KW\n",
       "0  72535  Baden-Württemberg   48,442398   9,659075  22.0\n",
       "1  72535  Baden-Württemberg   48,449424   9,672201  22.0"
      ]
     },
     "execution_count": 11,
     "metadata": {},
     "output_type": "execute_result"
    }
   ],
   "source": [
    "df.head(2)"
   ]
  },
  {
   "cell_type": "code",
   "execution_count": 12,
   "id": "0ae656ca-6b36-4d62-855a-87962dad2218",
   "metadata": {},
   "outputs": [],
   "source": [
    "df['Breitengrad'] = df['Breitengrad'].astype('str')\n",
    "df['Längengrad'] = df['Längengrad'].astype('str')"
   ]
  },
  {
   "cell_type": "code",
   "execution_count": 13,
   "id": "87bc9325-1d64-4888-bde4-a55e999d6325",
   "metadata": {},
   "outputs": [],
   "source": [
    "df['Breitengrad'] = df['Breitengrad'].str.replace(',','.')\n",
    "df['Längengrad'] = df['Längengrad'].str.replace(',','.')"
   ]
  },
  {
   "cell_type": "code",
   "execution_count": 14,
   "id": "f5d28b25-8094-4bbe-a3e8-624cf4748408",
   "metadata": {},
   "outputs": [],
   "source": [
    "charging_counts = df.groupby(\"PLZ\").size().reset_index(name='ChargingStations')"
   ]
  },
  {
   "cell_type": "code",
   "execution_count": 15,
   "id": "b4be8921-7973-41ae-a24f-e9081a128935",
   "metadata": {},
   "outputs": [
    {
     "data": {
      "text/html": [
       "<div>\n",
       "<style scoped>\n",
       "    .dataframe tbody tr th:only-of-type {\n",
       "        vertical-align: middle;\n",
       "    }\n",
       "\n",
       "    .dataframe tbody tr th {\n",
       "        vertical-align: top;\n",
       "    }\n",
       "\n",
       "    .dataframe thead th {\n",
       "        text-align: right;\n",
       "    }\n",
       "</style>\n",
       "<table border=\"1\" class=\"dataframe\">\n",
       "  <thead>\n",
       "    <tr style=\"text-align: right;\">\n",
       "      <th></th>\n",
       "      <th>PLZ</th>\n",
       "      <th>ChargingStations</th>\n",
       "    </tr>\n",
       "  </thead>\n",
       "  <tbody>\n",
       "    <tr>\n",
       "      <th>0</th>\n",
       "      <td>1011</td>\n",
       "      <td>1</td>\n",
       "    </tr>\n",
       "    <tr>\n",
       "      <th>1</th>\n",
       "      <td>1036</td>\n",
       "      <td>1</td>\n",
       "    </tr>\n",
       "    <tr>\n",
       "      <th>2</th>\n",
       "      <td>1062</td>\n",
       "      <td>1</td>\n",
       "    </tr>\n",
       "    <tr>\n",
       "      <th>3</th>\n",
       "      <td>1067</td>\n",
       "      <td>60</td>\n",
       "    </tr>\n",
       "    <tr>\n",
       "      <th>4</th>\n",
       "      <td>1068</td>\n",
       "      <td>1</td>\n",
       "    </tr>\n",
       "    <tr>\n",
       "      <th>...</th>\n",
       "      <td>...</td>\n",
       "      <td>...</td>\n",
       "    </tr>\n",
       "    <tr>\n",
       "      <th>6897</th>\n",
       "      <td>99986</td>\n",
       "      <td>2</td>\n",
       "    </tr>\n",
       "    <tr>\n",
       "      <th>6898</th>\n",
       "      <td>99988</td>\n",
       "      <td>2</td>\n",
       "    </tr>\n",
       "    <tr>\n",
       "      <th>6899</th>\n",
       "      <td>99991</td>\n",
       "      <td>1</td>\n",
       "    </tr>\n",
       "    <tr>\n",
       "      <th>6900</th>\n",
       "      <td>99994</td>\n",
       "      <td>2</td>\n",
       "    </tr>\n",
       "    <tr>\n",
       "      <th>6901</th>\n",
       "      <td>99996</td>\n",
       "      <td>1</td>\n",
       "    </tr>\n",
       "  </tbody>\n",
       "</table>\n",
       "<p>6902 rows × 2 columns</p>\n",
       "</div>"
      ],
      "text/plain": [
       "        PLZ  ChargingStations\n",
       "0      1011                 1\n",
       "1      1036                 1\n",
       "2      1062                 1\n",
       "3      1067                60\n",
       "4      1068                 1\n",
       "...     ...               ...\n",
       "6897  99986                 2\n",
       "6898  99988                 2\n",
       "6899  99991                 1\n",
       "6900  99994                 2\n",
       "6901  99996                 1\n",
       "\n",
       "[6902 rows x 2 columns]"
      ]
     },
     "execution_count": 15,
     "metadata": {},
     "output_type": "execute_result"
    }
   ],
   "source": [
    "charging_counts"
   ]
  },
  {
   "cell_type": "code",
   "execution_count": 16,
   "id": "32951668-a0dd-4cf0-910d-65ba595e50db",
   "metadata": {},
   "outputs": [],
   "source": [
    "merged_data = pd.merge(population_data, charging_counts, on=\"PLZ\", how=\"left\")"
   ]
  },
  {
   "cell_type": "code",
   "execution_count": 17,
   "id": "405f26cc-fc93-4003-a019-bfc43be5398f",
   "metadata": {},
   "outputs": [
    {
     "data": {
      "text/plain": [
       "(8170, 6)"
      ]
     },
     "execution_count": 17,
     "metadata": {},
     "output_type": "execute_result"
    }
   ],
   "source": [
    "population_data.shape"
   ]
  },
  {
   "cell_type": "code",
   "execution_count": 18,
   "id": "3a9507c0-5ed8-43af-9467-40e313410482",
   "metadata": {},
   "outputs": [
    {
     "data": {
      "text/plain": [
       "(6902, 2)"
      ]
     },
     "execution_count": 18,
     "metadata": {},
     "output_type": "execute_result"
    }
   ],
   "source": [
    "charging_counts.shape"
   ]
  },
  {
   "cell_type": "code",
   "execution_count": 19,
   "id": "65caf70b-5da5-437e-a978-d59a669395b4",
   "metadata": {},
   "outputs": [
    {
     "data": {
      "text/plain": [
       "(8170, 7)"
      ]
     },
     "execution_count": 19,
     "metadata": {},
     "output_type": "execute_result"
    }
   ],
   "source": [
    "merged_data.shape"
   ]
  },
  {
   "cell_type": "code",
   "execution_count": 20,
   "id": "1404a91f-1005-45eb-9f63-7b4a3a432839",
   "metadata": {},
   "outputs": [
    {
     "name": "stdout",
     "output_type": "stream",
     "text": [
      "<class 'pandas.core.frame.DataFrame'>\n",
      "RangeIndex: 8170 entries, 0 to 8169\n",
      "Data columns (total 7 columns):\n",
      " #   Column            Non-Null Count  Dtype  \n",
      "---  ------            --------------  -----  \n",
      " 0   PLZ               8170 non-null   int64  \n",
      " 1   note              8170 non-null   object \n",
      " 2   Population        8170 non-null   int64  \n",
      " 3   qkm               8170 non-null   float64\n",
      " 4   lat               8170 non-null   float64\n",
      " 5   lon               8170 non-null   float64\n",
      " 6   ChargingStations  6606 non-null   float64\n",
      "dtypes: float64(4), int64(2), object(1)\n",
      "memory usage: 446.9+ KB\n"
     ]
    }
   ],
   "source": [
    "merged_data.info()"
   ]
  },
  {
   "cell_type": "code",
   "execution_count": 21,
   "id": "19ebe6f8-c3d5-4417-8200-9ff443e2cb01",
   "metadata": {},
   "outputs": [
    {
     "name": "stderr",
     "output_type": "stream",
     "text": [
      "C:\\Users\\Gaurav\\AppData\\Local\\Temp\\ipykernel_22940\\450564457.py:1: FutureWarning: A value is trying to be set on a copy of a DataFrame or Series through chained assignment using an inplace method.\n",
      "The behavior will change in pandas 3.0. This inplace method will never work because the intermediate object on which we are setting values always behaves as a copy.\n",
      "\n",
      "For example, when doing 'df[col].method(value, inplace=True)', try using 'df.method({col: value}, inplace=True)' or df[col] = df[col].method(value) instead, to perform the operation inplace on the original object.\n",
      "\n",
      "\n",
      "  merged_data[\"ChargingStations\"].fillna(0, inplace=True)\n"
     ]
    }
   ],
   "source": [
    "merged_data[\"ChargingStations\"].fillna(0, inplace=True)"
   ]
  },
  {
   "cell_type": "code",
   "execution_count": 22,
   "id": "2c02d09b-c85c-49ae-9711-f6e7e18254a6",
   "metadata": {},
   "outputs": [],
   "source": [
    "merged_data[\"PopulationPerStation\"] = merged_data[\"Population\"] / (merged_data[\"ChargingStations\"] + 1)"
   ]
  },
  {
   "cell_type": "code",
   "execution_count": 23,
   "id": "dfc68682-15ad-426b-97e3-ca2b48c40b43",
   "metadata": {},
   "outputs": [
    {
     "data": {
      "text/html": [
       "<div>\n",
       "<style scoped>\n",
       "    .dataframe tbody tr th:only-of-type {\n",
       "        vertical-align: middle;\n",
       "    }\n",
       "\n",
       "    .dataframe tbody tr th {\n",
       "        vertical-align: top;\n",
       "    }\n",
       "\n",
       "    .dataframe thead th {\n",
       "        text-align: right;\n",
       "    }\n",
       "</style>\n",
       "<table border=\"1\" class=\"dataframe\">\n",
       "  <thead>\n",
       "    <tr style=\"text-align: right;\">\n",
       "      <th></th>\n",
       "      <th>PLZ</th>\n",
       "      <th>note</th>\n",
       "      <th>Population</th>\n",
       "      <th>qkm</th>\n",
       "      <th>lat</th>\n",
       "      <th>lon</th>\n",
       "      <th>ChargingStations</th>\n",
       "      <th>PopulationPerStation</th>\n",
       "    </tr>\n",
       "  </thead>\n",
       "  <tbody>\n",
       "    <tr>\n",
       "      <th>0</th>\n",
       "      <td>1067</td>\n",
       "      <td>01067 Dresden</td>\n",
       "      <td>11957</td>\n",
       "      <td>6.866839</td>\n",
       "      <td>51.06019</td>\n",
       "      <td>13.71117</td>\n",
       "      <td>60.0</td>\n",
       "      <td>196.016393</td>\n",
       "    </tr>\n",
       "    <tr>\n",
       "      <th>1</th>\n",
       "      <td>1069</td>\n",
       "      <td>01069 Dresden</td>\n",
       "      <td>25483</td>\n",
       "      <td>5.339213</td>\n",
       "      <td>51.03964</td>\n",
       "      <td>13.73030</td>\n",
       "      <td>51.0</td>\n",
       "      <td>490.057692</td>\n",
       "    </tr>\n",
       "  </tbody>\n",
       "</table>\n",
       "</div>"
      ],
      "text/plain": [
       "    PLZ           note  Population       qkm       lat       lon  \\\n",
       "0  1067  01067 Dresden       11957  6.866839  51.06019  13.71117   \n",
       "1  1069  01069 Dresden       25483  5.339213  51.03964  13.73030   \n",
       "\n",
       "   ChargingStations  PopulationPerStation  \n",
       "0              60.0            196.016393  \n",
       "1              51.0            490.057692  "
      ]
     },
     "execution_count": 23,
     "metadata": {},
     "output_type": "execute_result"
    }
   ],
   "source": [
    "merged_data.head(2)"
   ]
  },
  {
   "cell_type": "code",
   "execution_count": 24,
   "id": "e6ed6c5e-1fd0-49d3-b469-8daabd3bf56f",
   "metadata": {},
   "outputs": [],
   "source": [
    "merged_data.drop(['note', 'qkm'], axis= 1, inplace= True)"
   ]
  },
  {
   "cell_type": "code",
   "execution_count": 25,
   "id": "69304464-0ecf-4691-998f-4eac25262a9b",
   "metadata": {},
   "outputs": [
    {
     "data": {
      "text/html": [
       "<div>\n",
       "<style scoped>\n",
       "    .dataframe tbody tr th:only-of-type {\n",
       "        vertical-align: middle;\n",
       "    }\n",
       "\n",
       "    .dataframe tbody tr th {\n",
       "        vertical-align: top;\n",
       "    }\n",
       "\n",
       "    .dataframe thead th {\n",
       "        text-align: right;\n",
       "    }\n",
       "</style>\n",
       "<table border=\"1\" class=\"dataframe\">\n",
       "  <thead>\n",
       "    <tr style=\"text-align: right;\">\n",
       "      <th></th>\n",
       "      <th>PLZ</th>\n",
       "      <th>Population</th>\n",
       "      <th>lat</th>\n",
       "      <th>lon</th>\n",
       "      <th>ChargingStations</th>\n",
       "      <th>PopulationPerStation</th>\n",
       "    </tr>\n",
       "  </thead>\n",
       "  <tbody>\n",
       "    <tr>\n",
       "      <th>0</th>\n",
       "      <td>1067</td>\n",
       "      <td>11957</td>\n",
       "      <td>51.06019</td>\n",
       "      <td>13.71117</td>\n",
       "      <td>60.0</td>\n",
       "      <td>196.016393</td>\n",
       "    </tr>\n",
       "    <tr>\n",
       "      <th>1</th>\n",
       "      <td>1069</td>\n",
       "      <td>25483</td>\n",
       "      <td>51.03964</td>\n",
       "      <td>13.73030</td>\n",
       "      <td>51.0</td>\n",
       "      <td>490.057692</td>\n",
       "    </tr>\n",
       "  </tbody>\n",
       "</table>\n",
       "</div>"
      ],
      "text/plain": [
       "    PLZ  Population       lat       lon  ChargingStations  \\\n",
       "0  1067       11957  51.06019  13.71117              60.0   \n",
       "1  1069       25483  51.03964  13.73030              51.0   \n",
       "\n",
       "   PopulationPerStation  \n",
       "0            196.016393  \n",
       "1            490.057692  "
      ]
     },
     "execution_count": 25,
     "metadata": {},
     "output_type": "execute_result"
    }
   ],
   "source": [
    "merged_data.head(2)"
   ]
  },
  {
   "cell_type": "code",
   "execution_count": 26,
   "id": "d6a43ed5-9bdf-438d-809a-6738f6acb0d4",
   "metadata": {},
   "outputs": [
    {
     "data": {
      "text/html": [
       "<div>\n",
       "<style scoped>\n",
       "    .dataframe tbody tr th:only-of-type {\n",
       "        vertical-align: middle;\n",
       "    }\n",
       "\n",
       "    .dataframe tbody tr th {\n",
       "        vertical-align: top;\n",
       "    }\n",
       "\n",
       "    .dataframe thead th {\n",
       "        text-align: right;\n",
       "    }\n",
       "</style>\n",
       "<table border=\"1\" class=\"dataframe\">\n",
       "  <thead>\n",
       "    <tr style=\"text-align: right;\">\n",
       "      <th></th>\n",
       "      <th>plz</th>\n",
       "      <th>Einwohner</th>\n",
       "      <th>Breitengrad</th>\n",
       "      <th>Längengrad</th>\n",
       "      <th>ChargingStations</th>\n",
       "      <th>PopulationPerStation</th>\n",
       "    </tr>\n",
       "  </thead>\n",
       "  <tbody>\n",
       "    <tr>\n",
       "      <th>0</th>\n",
       "      <td>1067</td>\n",
       "      <td>11957</td>\n",
       "      <td>51.06019</td>\n",
       "      <td>13.71117</td>\n",
       "      <td>60.0</td>\n",
       "      <td>196.016393</td>\n",
       "    </tr>\n",
       "    <tr>\n",
       "      <th>1</th>\n",
       "      <td>1069</td>\n",
       "      <td>25483</td>\n",
       "      <td>51.03964</td>\n",
       "      <td>13.73030</td>\n",
       "      <td>51.0</td>\n",
       "      <td>490.057692</td>\n",
       "    </tr>\n",
       "  </tbody>\n",
       "</table>\n",
       "</div>"
      ],
      "text/plain": [
       "    plz  Einwohner  Breitengrad  Längengrad  ChargingStations  \\\n",
       "0  1067      11957     51.06019    13.71117              60.0   \n",
       "1  1069      25483     51.03964    13.73030              51.0   \n",
       "\n",
       "   PopulationPerStation  \n",
       "0            196.016393  \n",
       "1            490.057692  "
      ]
     },
     "execution_count": 26,
     "metadata": {},
     "output_type": "execute_result"
    }
   ],
   "source": [
    "merged_data.rename(columns= {\"PLZ\": \"plz\", \"Population\": \"Einwohner\", \"lat\": \"Breitengrad\", \"lon\": \"Längengrad\"}, inplace= True)\n",
    "merged_data.head(2)"
   ]
  },
  {
   "cell_type": "code",
   "execution_count": 38,
   "id": "fb082285-a482-46f5-a430-2eaa7571cdd6",
   "metadata": {},
   "outputs": [
    {
     "name": "stdout",
     "output_type": "stream",
     "text": [
      "<class 'pandas.core.frame.DataFrame'>\n",
      "RangeIndex: 8170 entries, 0 to 8169\n",
      "Data columns (total 6 columns):\n",
      " #   Column                Non-Null Count  Dtype  \n",
      "---  ------                --------------  -----  \n",
      " 0   plz                   8170 non-null   int64  \n",
      " 1   Einwohner             8170 non-null   int64  \n",
      " 2   Breitengrad           8170 non-null   float64\n",
      " 3   Längengrad            8170 non-null   float64\n",
      " 4   ChargingStations      8170 non-null   float64\n",
      " 5   PopulationPerStation  8170 non-null   float64\n",
      "dtypes: float64(4), int64(2)\n",
      "memory usage: 383.1 KB\n"
     ]
    }
   ],
   "source": [
    "merged_data.info()"
   ]
  },
  {
   "cell_type": "code",
   "execution_count": 27,
   "id": "73e0df2e-ba75-40cd-8caa-b8b2317e1176",
   "metadata": {},
   "outputs": [],
   "source": [
    "merged_data.to_csv(\"processed_data.csv\", index=False)"
   ]
  },
  {
   "cell_type": "code",
   "execution_count": 28,
   "id": "c86fc586-ff5f-4e66-92f7-9e6e1fbf8337",
   "metadata": {},
   "outputs": [],
   "source": [
    "import folium\n",
    "from folium.plugins import HeatMap"
   ]
  },
  {
   "cell_type": "code",
   "execution_count": 29,
   "id": "398eca67-f3da-406c-9960-164ecc3520fc",
   "metadata": {},
   "outputs": [],
   "source": [
    "geojson_file = \"plz-5stellig.geojson\""
   ]
  },
  {
   "cell_type": "code",
   "execution_count": 30,
   "id": "b039aaa6-bf41-44c7-9524-845f2aabe05c",
   "metadata": {},
   "outputs": [],
   "source": [
    "import geopandas as gpd"
   ]
  },
  {
   "cell_type": "code",
   "execution_count": 31,
   "id": "c718c3b3-e0d6-415f-93e2-b4996c3fd6cb",
   "metadata": {},
   "outputs": [
    {
     "data": {
      "text/plain": [
       "'plz-5stellig.geojson'"
      ]
     },
     "execution_count": 31,
     "metadata": {},
     "output_type": "execute_result"
    }
   ],
   "source": [
    "geojson_file"
   ]
  },
  {
   "cell_type": "code",
   "execution_count": 33,
   "id": "a760f24c-3a44-42b4-b7d0-35171e4cc443",
   "metadata": {},
   "outputs": [],
   "source": [
    "import geopandas as gpd"
   ]
  },
  {
   "cell_type": "code",
   "execution_count": 34,
   "id": "8f82e981-dbe8-405b-a760-8455fd8d866e",
   "metadata": {},
   "outputs": [],
   "source": [
    "geo_data = gpd.read_file(geojson_file)"
   ]
  },
  {
   "cell_type": "code",
   "execution_count": 37,
   "id": "bda9eb16-0c66-41b8-9074-8989b72ba602",
   "metadata": {},
   "outputs": [
    {
     "data": {
      "text/html": [
       "<div>\n",
       "<style scoped>\n",
       "    .dataframe tbody tr th:only-of-type {\n",
       "        vertical-align: middle;\n",
       "    }\n",
       "\n",
       "    .dataframe tbody tr th {\n",
       "        vertical-align: top;\n",
       "    }\n",
       "\n",
       "    .dataframe thead th {\n",
       "        text-align: right;\n",
       "    }\n",
       "</style>\n",
       "<table border=\"1\" class=\"dataframe\">\n",
       "  <thead>\n",
       "    <tr style=\"text-align: right;\">\n",
       "      <th></th>\n",
       "      <th>plz</th>\n",
       "      <th>note</th>\n",
       "      <th>einwohner</th>\n",
       "      <th>qkm</th>\n",
       "      <th>geometry</th>\n",
       "    </tr>\n",
       "  </thead>\n",
       "  <tbody>\n",
       "    <tr>\n",
       "      <th>0</th>\n",
       "      <td>64743</td>\n",
       "      <td>Situation unklar, evtl. haben die Häuser Marba...</td>\n",
       "      <td>3</td>\n",
       "      <td>0.082066</td>\n",
       "      <td>POLYGON ((8.98124 49.60761, 8.9814 49.6073, 8....</td>\n",
       "    </tr>\n",
       "    <tr>\n",
       "      <th>1</th>\n",
       "      <td>81248</td>\n",
       "      <td>81248 München</td>\n",
       "      <td>121</td>\n",
       "      <td>1.984763</td>\n",
       "      <td>POLYGON ((11.39468 48.14729, 11.39484 48.14654...</td>\n",
       "    </tr>\n",
       "  </tbody>\n",
       "</table>\n",
       "</div>"
      ],
      "text/plain": [
       "     plz                                               note  einwohner  \\\n",
       "0  64743  Situation unklar, evtl. haben die Häuser Marba...          3   \n",
       "1  81248                                      81248 München        121   \n",
       "\n",
       "        qkm                                           geometry  \n",
       "0  0.082066  POLYGON ((8.98124 49.60761, 8.9814 49.6073, 8....  \n",
       "1  1.984763  POLYGON ((11.39468 48.14729, 11.39484 48.14654...  "
      ]
     },
     "execution_count": 37,
     "metadata": {},
     "output_type": "execute_result"
    }
   ],
   "source": [
    "geo_data.head(2)"
   ]
  },
  {
   "cell_type": "code",
   "execution_count": 39,
   "id": "31006a00-d727-44f9-89d6-f8615004b718",
   "metadata": {},
   "outputs": [
    {
     "name": "stdout",
     "output_type": "stream",
     "text": [
      "<class 'geopandas.geodataframe.GeoDataFrame'>\n",
      "RangeIndex: 8170 entries, 0 to 8169\n",
      "Data columns (total 5 columns):\n",
      " #   Column     Non-Null Count  Dtype   \n",
      "---  ------     --------------  -----   \n",
      " 0   plz        8170 non-null   object  \n",
      " 1   note       8170 non-null   object  \n",
      " 2   einwohner  8170 non-null   int32   \n",
      " 3   qkm        8170 non-null   float64 \n",
      " 4   geometry   8170 non-null   geometry\n",
      "dtypes: float64(1), geometry(1), int32(1), object(2)\n",
      "memory usage: 287.4+ KB\n"
     ]
    }
   ],
   "source": [
    "geo_data.info()"
   ]
  },
  {
   "cell_type": "code",
   "execution_count": 40,
   "id": "948f9210-e81e-4bc0-aa22-60e1cad207c6",
   "metadata": {},
   "outputs": [],
   "source": [
    "geo_data['plz'] = geo_data['plz'].astype(int)"
   ]
  },
  {
   "cell_type": "code",
   "execution_count": 41,
   "id": "3f1f3173-a819-4eb3-83ce-58150bd06175",
   "metadata": {},
   "outputs": [
    {
     "name": "stdout",
     "output_type": "stream",
     "text": [
      "<class 'geopandas.geodataframe.GeoDataFrame'>\n",
      "RangeIndex: 8170 entries, 0 to 8169\n",
      "Data columns (total 5 columns):\n",
      " #   Column     Non-Null Count  Dtype   \n",
      "---  ------     --------------  -----   \n",
      " 0   plz        8170 non-null   int64   \n",
      " 1   note       8170 non-null   object  \n",
      " 2   einwohner  8170 non-null   int32   \n",
      " 3   qkm        8170 non-null   float64 \n",
      " 4   geometry   8170 non-null   geometry\n",
      "dtypes: float64(1), geometry(1), int32(1), int64(1), object(1)\n",
      "memory usage: 287.4+ KB\n"
     ]
    }
   ],
   "source": [
    "geo_data.info()"
   ]
  },
  {
   "cell_type": "code",
   "execution_count": 42,
   "id": "4707886d-238a-4a02-a12b-1f325dddc97e",
   "metadata": {},
   "outputs": [],
   "source": [
    "geo_merged = geo_data.merge(merged_data, on=\"plz\", how=\"left\")"
   ]
  },
  {
   "cell_type": "code",
   "execution_count": 44,
   "id": "e6015e98-b01f-4550-b1a2-76da1bbafc4f",
   "metadata": {},
   "outputs": [
    {
     "data": {
      "text/html": [
       "<div>\n",
       "<style scoped>\n",
       "    .dataframe tbody tr th:only-of-type {\n",
       "        vertical-align: middle;\n",
       "    }\n",
       "\n",
       "    .dataframe tbody tr th {\n",
       "        vertical-align: top;\n",
       "    }\n",
       "\n",
       "    .dataframe thead th {\n",
       "        text-align: right;\n",
       "    }\n",
       "</style>\n",
       "<table border=\"1\" class=\"dataframe\">\n",
       "  <thead>\n",
       "    <tr style=\"text-align: right;\">\n",
       "      <th></th>\n",
       "      <th>plz</th>\n",
       "      <th>note</th>\n",
       "      <th>einwohner</th>\n",
       "      <th>qkm</th>\n",
       "      <th>geometry</th>\n",
       "      <th>Einwohner</th>\n",
       "      <th>Breitengrad</th>\n",
       "      <th>Längengrad</th>\n",
       "      <th>ChargingStations</th>\n",
       "      <th>PopulationPerStation</th>\n",
       "    </tr>\n",
       "  </thead>\n",
       "  <tbody>\n",
       "    <tr>\n",
       "      <th>0</th>\n",
       "      <td>64743</td>\n",
       "      <td>Situation unklar, evtl. haben die Häuser Marba...</td>\n",
       "      <td>3</td>\n",
       "      <td>0.082066</td>\n",
       "      <td>POLYGON ((8.98124 49.60761, 8.9814 49.6073, 8....</td>\n",
       "      <td>3</td>\n",
       "      <td>49.60682</td>\n",
       "      <td>8.98531</td>\n",
       "      <td>3.0</td>\n",
       "      <td>0.75</td>\n",
       "    </tr>\n",
       "    <tr>\n",
       "      <th>1</th>\n",
       "      <td>81248</td>\n",
       "      <td>81248 München</td>\n",
       "      <td>121</td>\n",
       "      <td>1.984763</td>\n",
       "      <td>POLYGON ((11.39468 48.14729, 11.39484 48.14654...</td>\n",
       "      <td>121</td>\n",
       "      <td>48.14978</td>\n",
       "      <td>11.40236</td>\n",
       "      <td>0.0</td>\n",
       "      <td>121.00</td>\n",
       "    </tr>\n",
       "    <tr>\n",
       "      <th>2</th>\n",
       "      <td>60315</td>\n",
       "      <td>60315 Frankfurt am Main (FOUR)</td>\n",
       "      <td>0</td>\n",
       "      <td>0.017285</td>\n",
       "      <td>POLYGON ((8.67254 50.11264, 8.67363 50.11152, ...</td>\n",
       "      <td>0</td>\n",
       "      <td>50.11243</td>\n",
       "      <td>8.67389</td>\n",
       "      <td>0.0</td>\n",
       "      <td>0.00</td>\n",
       "    </tr>\n",
       "  </tbody>\n",
       "</table>\n",
       "</div>"
      ],
      "text/plain": [
       "     plz                                               note  einwohner  \\\n",
       "0  64743  Situation unklar, evtl. haben die Häuser Marba...          3   \n",
       "1  81248                                      81248 München        121   \n",
       "2  60315                     60315 Frankfurt am Main (FOUR)          0   \n",
       "\n",
       "        qkm                                           geometry  Einwohner  \\\n",
       "0  0.082066  POLYGON ((8.98124 49.60761, 8.9814 49.6073, 8....          3   \n",
       "1  1.984763  POLYGON ((11.39468 48.14729, 11.39484 48.14654...        121   \n",
       "2  0.017285  POLYGON ((8.67254 50.11264, 8.67363 50.11152, ...          0   \n",
       "\n",
       "   Breitengrad  Längengrad  ChargingStations  PopulationPerStation  \n",
       "0     49.60682     8.98531               3.0                  0.75  \n",
       "1     48.14978    11.40236               0.0                121.00  \n",
       "2     50.11243     8.67389               0.0                  0.00  "
      ]
     },
     "execution_count": 44,
     "metadata": {},
     "output_type": "execute_result"
    }
   ],
   "source": [
    "geo_merged.head(3)"
   ]
  },
  {
   "cell_type": "code",
   "execution_count": 45,
   "id": "3decc6ef-bb06-442a-b2d5-5fd55592be85",
   "metadata": {},
   "outputs": [],
   "source": [
    "m = folium.Map(location=[52.5200, 13.4050], zoom_start=11)"
   ]
  },
  {
   "cell_type": "code",
   "execution_count": 47,
   "id": "adbac18a-5f29-44aa-805a-ee664fb0e340",
   "metadata": {},
   "outputs": [
    {
     "data": {
      "text/plain": [
       "<folium.features.Choropleth at 0x1f07debfc10>"
      ]
     },
     "execution_count": 47,
     "metadata": {},
     "output_type": "execute_result"
    }
   ],
   "source": [
    "folium.Choropleth(\n",
    "    geo_data=geo_merged,\n",
    "    data=geo_merged,\n",
    "    columns=[\"plz\", \"PopulationPerStation\"],\n",
    "    key_on=\"feature.properties.plz\",\n",
    "    fill_color=\"YlOrRd\",\n",
    "    fill_opacity=0.7,\n",
    "    line_opacity=0.2,\n",
    "    legend_name=\"Population per Charging Station\"\n",
    ").add_to(m)"
   ]
  },
  {
   "cell_type": "code",
   "execution_count": 48,
   "id": "537b5308-9827-4366-90bd-afe28e3f929b",
   "metadata": {},
   "outputs": [],
   "source": [
    "m.save(\"berlin_charging_stations_map.html\")"
   ]
  },
  {
   "cell_type": "code",
   "execution_count": 49,
   "id": "542e5e7b-ecf9-4a74-81e9-b60be1b8a813",
   "metadata": {},
   "outputs": [
    {
     "name": "stderr",
     "output_type": "stream",
     "text": [
      "2024-11-26 11:04:48.490 WARNING streamlit.runtime.scriptrunner_utils.script_run_context: Thread 'MainThread': missing ScriptRunContext! This warning can be ignored when running in bare mode.\n"
     ]
    }
   ],
   "source": [
    "import streamlit as st\n",
    "import pandas as pd\n",
    "import geopandas as gpd\n",
    "import folium\n",
    "from streamlit_folium import st_folium"
   ]
  },
  {
   "cell_type": "code",
   "execution_count": 50,
   "id": "ef0587e1-c79d-448b-8b89-bb0537fb9453",
   "metadata": {},
   "outputs": [],
   "source": [
    "data = pd.read_csv(\"processed_data.csv\")"
   ]
  },
  {
   "cell_type": "code",
   "execution_count": 53,
   "id": "fc0109c3-5acb-4f11-9a7f-370f32e8e056",
   "metadata": {},
   "outputs": [],
   "source": [
    "def create_map():\n",
    "    m = folium.Map(location=[52.5200, 13.4050], zoom_start=11)\n",
    "    folium.Choropleth(\n",
    "        geo_data=geo_merged,\n",
    "        data=geo_merged,\n",
    "        columns=[\"plz\", \"PopulationPerStation\"],\n",
    "        key_on=\"feature.properties.plz\",\n",
    "        fill_color=\"YlOrRd\",\n",
    "        fill_opacity=0.7,\n",
    "        line_opacity=0.2,\n",
    "        legend_name=\"Population per Charging Station\"\n",
    "    ).add_to(m)\n",
    "    return m"
   ]
  },
  {
   "cell_type": "code",
   "execution_count": 55,
   "id": "a9f4fa7b-d14c-4ba1-8a65-31d8783e457b",
   "metadata": {},
   "outputs": [
    {
     "name": "stderr",
     "output_type": "stream",
     "text": [
      "2024-11-26 11:07:38.457 Thread 'MainThread': missing ScriptRunContext! This warning can be ignored when running in bare mode.\n",
      "2024-11-26 11:07:38.457 Thread 'MainThread': missing ScriptRunContext! This warning can be ignored when running in bare mode.\n",
      "2024-11-26 11:07:38.460 Thread 'MainThread': missing ScriptRunContext! This warning can be ignored when running in bare mode.\n",
      "2024-11-26 11:07:38.460 Thread 'MainThread': missing ScriptRunContext! This warning can be ignored when running in bare mode.\n",
      "2024-11-26 11:07:38.461 Thread 'MainThread': missing ScriptRunContext! This warning can be ignored when running in bare mode.\n",
      "2024-11-26 11:07:38.462 Thread 'MainThread': missing ScriptRunContext! This warning can be ignored when running in bare mode.\n",
      "2024-11-26 11:08:26.333 Thread 'MainThread': missing ScriptRunContext! This warning can be ignored when running in bare mode.\n",
      "2024-11-26 11:08:26.333 Thread 'MainThread': missing ScriptRunContext! This warning can be ignored when running in bare mode.\n",
      "2024-11-26 11:08:26.366 Thread 'MainThread': missing ScriptRunContext! This warning can be ignored when running in bare mode.\n",
      "2024-11-26 11:08:26.395 Thread 'MainThread': missing ScriptRunContext! This warning can be ignored when running in bare mode.\n"
     ]
    },
    {
     "data": {
      "text/plain": [
       "{'last_clicked': None,\n",
       " 'last_object_clicked': None,\n",
       " 'last_object_clicked_tooltip': None,\n",
       " 'last_object_clicked_popup': None,\n",
       " 'all_drawings': None,\n",
       " 'last_active_drawing': None,\n",
       " 'bounds': {'_southWest': {'lat': 47.2701114, 'lng': 5.8663153},\n",
       "  '_northEast': {'lat': 55.0586834, 'lng': 15.0419309}},\n",
       " 'zoom': 11,\n",
       " 'last_circle_radius': None,\n",
       " 'last_circle_polygon': None,\n",
       " 'selected_layers': None}"
      ]
     },
     "execution_count": 55,
     "metadata": {},
     "output_type": "execute_result"
    }
   ],
   "source": [
    "st.title(\"Berlin Electric Charging Station Demand\")\n",
    "\n",
    "st.write(\"This app visualizes demand for electric vehicle charging stations in Berlin.\")\n",
    "\n",
    "map_ = create_map()\n",
    "st_folium(map_, width=700, height=500)"
   ]
  },
  {
   "cell_type": "code",
   "execution_count": null,
   "id": "3377d0a5-147b-4d95-9a6f-3f9d8ae370ea",
   "metadata": {},
   "outputs": [],
   "source": [
    "streamlit run main.py"
   ]
  },
  {
   "cell_type": "code",
   "execution_count": null,
   "id": "1b4bc391-79b7-4eb6-bae8-323929862878",
   "metadata": {},
   "outputs": [],
   "source": []
  }
 ],
 "metadata": {
  "kernelspec": {
   "display_name": "Python 3 (ipykernel)",
   "language": "python",
   "name": "python3"
  },
  "language_info": {
   "codemirror_mode": {
    "name": "ipython",
    "version": 3
   },
   "file_extension": ".py",
   "mimetype": "text/x-python",
   "name": "python",
   "nbconvert_exporter": "python",
   "pygments_lexer": "ipython3",
   "version": "3.9.0"
  }
 },
 "nbformat": 4,
 "nbformat_minor": 5
}
